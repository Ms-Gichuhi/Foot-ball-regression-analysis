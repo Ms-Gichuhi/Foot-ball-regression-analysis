{
  "nbformat": 4,
  "nbformat_minor": 0,
  "metadata": {
    "colab": {
      "name": "Week6 IP.ipynb",
      "provenance": [],
      "authorship_tag": "ABX9TyM2FuNDF9kwrvjk2Y+o7AYE",
      "include_colab_link": true
    },
    "kernelspec": {
      "name": "python3",
      "display_name": "Python 3"
    },
    "accelerator": "GPU"
  },
  "cells": [
    {
      "cell_type": "markdown",
      "metadata": {
        "id": "view-in-github",
        "colab_type": "text"
      },
      "source": [
        "<a href=\"https://colab.research.google.com/github/Ms-Gichuhi/Foot-ball-regression-analysis/blob/master/Week6_IP.ipynb\" target=\"_parent\"><img src=\"https://colab.research.google.com/assets/colab-badge.svg\" alt=\"Open In Colab\"/></a>"
      ]
    },
    {
      "cell_type": "markdown",
      "metadata": {
        "id": "D0mifqG30akM"
      },
      "source": [
        "# Define The Question\n",
        "We have been recruited as a football analyst in a company (Mchezopesa Ltd.) to accomplish the task below.\n",
        "\n",
        "\n",
        "Provided two datasets containing football results and ranking data.\n",
        "\n",
        " A prediction result of a game between home team and away team, and on whether or not the game is friendly (include rank in your training).\n",
        "\n",
        "Input: Home team, Away team, Tournament type (World cup, Friendly, Other)\n",
        "\n",
        "Approach 1 : Polynomial Approach\n",
        "\n",
        "What to train given:\n",
        "\n",
        "Rank of home team\n",
        "\n",
        "Rank of away team\n",
        "\n",
        "Tournament type\n",
        "\n",
        "Model 1: Predict how many goals the home team scores\n",
        "\n",
        "Model 2: Predict how many goals the away team scores\n",
        "\n",
        "Approach 2 : Logistic Approach\n",
        "\n",
        "Figure out from the home team’s perspective if the game is a Win, Lose or Draw (W, L, D)\n",
        "\n",
        "# Metrics of success\n",
        ">build a polynomial regression model that predicts how many goals the home team scores.\n",
        "\n",
        ">build a polynomial regression model that predicts how many goals the away team scores.\n",
        "\n",
        "> build a logistic model that can predict who wins, loses or draws in a match with a high level of accuracy.\n",
        "\n",
        "##Experimental design\n",
        "Read and explore the given dataset.\n",
        "\n",
        "Define the appropriateness of the available data to answer the given question.\n",
        "\n",
        "Find and deal with outliers, anomalies, and missing data within the dataset.\n",
        "\n",
        "Perform univariate, bivariate analysis and record observations\n",
        "\n",
        "Check for multicollinearity\n",
        "\n",
        "build the polynoimial and logistic regression models\n",
        "\n",
        "Create residual plots for your models, and assess heteroskedasticity using Barlett's test.\n",
        "\n",
        "Challenge your solution by providing insights on how you can make improvements in model improvement."
      ]
    },
    {
      "cell_type": "code",
      "metadata": {
        "id": "0a5B-QkH0QGG"
      },
      "source": [
        "# Importing the required libraries\n",
        "# ---\n",
        "#\n",
        "import pandas as pd\n",
        "import numpy as np"
      ],
      "execution_count": 1,
      "outputs": []
    },
    {
      "cell_type": "code",
      "metadata": {
        "id": "WBdSKZuV0ktK"
      },
      "source": [
        "#loading the dataset\n",
        "fifa = pd.read_csv(\"fifa_ranking.csv\")\n",
        "\n",
        "results = pd.read_csv(\"results.csv\")"
      ],
      "execution_count": 2,
      "outputs": []
    },
    {
      "cell_type": "code",
      "metadata": {
        "id": "b2ZxU5wB0kpM",
        "outputId": "a48c43c4-1ebe-4cdd-ec96-cf655161cc63",
        "colab": {
          "base_uri": "https://localhost:8080/",
          "height": 309
        }
      },
      "source": [
        "#previewing our fifa datasets\n",
        "\n",
        "fifa.head()"
      ],
      "execution_count": 3,
      "outputs": [
        {
          "output_type": "execute_result",
          "data": {
            "text/html": [
              "<div>\n",
              "<style scoped>\n",
              "    .dataframe tbody tr th:only-of-type {\n",
              "        vertical-align: middle;\n",
              "    }\n",
              "\n",
              "    .dataframe tbody tr th {\n",
              "        vertical-align: top;\n",
              "    }\n",
              "\n",
              "    .dataframe thead th {\n",
              "        text-align: right;\n",
              "    }\n",
              "</style>\n",
              "<table border=\"1\" class=\"dataframe\">\n",
              "  <thead>\n",
              "    <tr style=\"text-align: right;\">\n",
              "      <th></th>\n",
              "      <th>rank</th>\n",
              "      <th>country_full</th>\n",
              "      <th>country_abrv</th>\n",
              "      <th>total_points</th>\n",
              "      <th>previous_points</th>\n",
              "      <th>rank_change</th>\n",
              "      <th>cur_year_avg</th>\n",
              "      <th>cur_year_avg_weighted</th>\n",
              "      <th>last_year_avg</th>\n",
              "      <th>last_year_avg_weighted</th>\n",
              "      <th>two_year_ago_avg</th>\n",
              "      <th>two_year_ago_weighted</th>\n",
              "      <th>three_year_ago_avg</th>\n",
              "      <th>three_year_ago_weighted</th>\n",
              "      <th>confederation</th>\n",
              "      <th>rank_date</th>\n",
              "    </tr>\n",
              "  </thead>\n",
              "  <tbody>\n",
              "    <tr>\n",
              "      <th>0</th>\n",
              "      <td>1</td>\n",
              "      <td>Germany</td>\n",
              "      <td>GER</td>\n",
              "      <td>0.0</td>\n",
              "      <td>57</td>\n",
              "      <td>0</td>\n",
              "      <td>0.0</td>\n",
              "      <td>0.0</td>\n",
              "      <td>0.0</td>\n",
              "      <td>0.0</td>\n",
              "      <td>0.0</td>\n",
              "      <td>0.0</td>\n",
              "      <td>0.0</td>\n",
              "      <td>0.0</td>\n",
              "      <td>UEFA</td>\n",
              "      <td>1993-08-08</td>\n",
              "    </tr>\n",
              "    <tr>\n",
              "      <th>1</th>\n",
              "      <td>2</td>\n",
              "      <td>Italy</td>\n",
              "      <td>ITA</td>\n",
              "      <td>0.0</td>\n",
              "      <td>57</td>\n",
              "      <td>0</td>\n",
              "      <td>0.0</td>\n",
              "      <td>0.0</td>\n",
              "      <td>0.0</td>\n",
              "      <td>0.0</td>\n",
              "      <td>0.0</td>\n",
              "      <td>0.0</td>\n",
              "      <td>0.0</td>\n",
              "      <td>0.0</td>\n",
              "      <td>UEFA</td>\n",
              "      <td>1993-08-08</td>\n",
              "    </tr>\n",
              "    <tr>\n",
              "      <th>2</th>\n",
              "      <td>3</td>\n",
              "      <td>Switzerland</td>\n",
              "      <td>SUI</td>\n",
              "      <td>0.0</td>\n",
              "      <td>50</td>\n",
              "      <td>9</td>\n",
              "      <td>0.0</td>\n",
              "      <td>0.0</td>\n",
              "      <td>0.0</td>\n",
              "      <td>0.0</td>\n",
              "      <td>0.0</td>\n",
              "      <td>0.0</td>\n",
              "      <td>0.0</td>\n",
              "      <td>0.0</td>\n",
              "      <td>UEFA</td>\n",
              "      <td>1993-08-08</td>\n",
              "    </tr>\n",
              "    <tr>\n",
              "      <th>3</th>\n",
              "      <td>4</td>\n",
              "      <td>Sweden</td>\n",
              "      <td>SWE</td>\n",
              "      <td>0.0</td>\n",
              "      <td>55</td>\n",
              "      <td>0</td>\n",
              "      <td>0.0</td>\n",
              "      <td>0.0</td>\n",
              "      <td>0.0</td>\n",
              "      <td>0.0</td>\n",
              "      <td>0.0</td>\n",
              "      <td>0.0</td>\n",
              "      <td>0.0</td>\n",
              "      <td>0.0</td>\n",
              "      <td>UEFA</td>\n",
              "      <td>1993-08-08</td>\n",
              "    </tr>\n",
              "    <tr>\n",
              "      <th>4</th>\n",
              "      <td>5</td>\n",
              "      <td>Argentina</td>\n",
              "      <td>ARG</td>\n",
              "      <td>0.0</td>\n",
              "      <td>51</td>\n",
              "      <td>5</td>\n",
              "      <td>0.0</td>\n",
              "      <td>0.0</td>\n",
              "      <td>0.0</td>\n",
              "      <td>0.0</td>\n",
              "      <td>0.0</td>\n",
              "      <td>0.0</td>\n",
              "      <td>0.0</td>\n",
              "      <td>0.0</td>\n",
              "      <td>CONMEBOL</td>\n",
              "      <td>1993-08-08</td>\n",
              "    </tr>\n",
              "  </tbody>\n",
              "</table>\n",
              "</div>"
            ],
            "text/plain": [
              "   rank country_full  ... confederation   rank_date\n",
              "0     1      Germany  ...          UEFA  1993-08-08\n",
              "1     2        Italy  ...          UEFA  1993-08-08\n",
              "2     3  Switzerland  ...          UEFA  1993-08-08\n",
              "3     4       Sweden  ...          UEFA  1993-08-08\n",
              "4     5    Argentina  ...      CONMEBOL  1993-08-08\n",
              "\n",
              "[5 rows x 16 columns]"
            ]
          },
          "metadata": {
            "tags": []
          },
          "execution_count": 3
        }
      ]
    },
    {
      "cell_type": "code",
      "metadata": {
        "id": "r1g23QA70kke",
        "outputId": "b34211ef-c01b-4f7d-b373-6169f80def65",
        "colab": {
          "base_uri": "https://localhost:8080/",
          "height": 204
        }
      },
      "source": [
        "#previewing the results dataset\n",
        "\n",
        "results.head()"
      ],
      "execution_count": 4,
      "outputs": [
        {
          "output_type": "execute_result",
          "data": {
            "text/html": [
              "<div>\n",
              "<style scoped>\n",
              "    .dataframe tbody tr th:only-of-type {\n",
              "        vertical-align: middle;\n",
              "    }\n",
              "\n",
              "    .dataframe tbody tr th {\n",
              "        vertical-align: top;\n",
              "    }\n",
              "\n",
              "    .dataframe thead th {\n",
              "        text-align: right;\n",
              "    }\n",
              "</style>\n",
              "<table border=\"1\" class=\"dataframe\">\n",
              "  <thead>\n",
              "    <tr style=\"text-align: right;\">\n",
              "      <th></th>\n",
              "      <th>date</th>\n",
              "      <th>home_team</th>\n",
              "      <th>away_team</th>\n",
              "      <th>home_score</th>\n",
              "      <th>away_score</th>\n",
              "      <th>tournament</th>\n",
              "      <th>city</th>\n",
              "      <th>country</th>\n",
              "      <th>neutral</th>\n",
              "    </tr>\n",
              "  </thead>\n",
              "  <tbody>\n",
              "    <tr>\n",
              "      <th>0</th>\n",
              "      <td>1872-11-30</td>\n",
              "      <td>Scotland</td>\n",
              "      <td>England</td>\n",
              "      <td>0</td>\n",
              "      <td>0</td>\n",
              "      <td>Friendly</td>\n",
              "      <td>Glasgow</td>\n",
              "      <td>Scotland</td>\n",
              "      <td>False</td>\n",
              "    </tr>\n",
              "    <tr>\n",
              "      <th>1</th>\n",
              "      <td>1873-03-08</td>\n",
              "      <td>England</td>\n",
              "      <td>Scotland</td>\n",
              "      <td>4</td>\n",
              "      <td>2</td>\n",
              "      <td>Friendly</td>\n",
              "      <td>London</td>\n",
              "      <td>England</td>\n",
              "      <td>False</td>\n",
              "    </tr>\n",
              "    <tr>\n",
              "      <th>2</th>\n",
              "      <td>1874-03-07</td>\n",
              "      <td>Scotland</td>\n",
              "      <td>England</td>\n",
              "      <td>2</td>\n",
              "      <td>1</td>\n",
              "      <td>Friendly</td>\n",
              "      <td>Glasgow</td>\n",
              "      <td>Scotland</td>\n",
              "      <td>False</td>\n",
              "    </tr>\n",
              "    <tr>\n",
              "      <th>3</th>\n",
              "      <td>1875-03-06</td>\n",
              "      <td>England</td>\n",
              "      <td>Scotland</td>\n",
              "      <td>2</td>\n",
              "      <td>2</td>\n",
              "      <td>Friendly</td>\n",
              "      <td>London</td>\n",
              "      <td>England</td>\n",
              "      <td>False</td>\n",
              "    </tr>\n",
              "    <tr>\n",
              "      <th>4</th>\n",
              "      <td>1876-03-04</td>\n",
              "      <td>Scotland</td>\n",
              "      <td>England</td>\n",
              "      <td>3</td>\n",
              "      <td>0</td>\n",
              "      <td>Friendly</td>\n",
              "      <td>Glasgow</td>\n",
              "      <td>Scotland</td>\n",
              "      <td>False</td>\n",
              "    </tr>\n",
              "  </tbody>\n",
              "</table>\n",
              "</div>"
            ],
            "text/plain": [
              "         date home_team away_team  ...     city   country neutral\n",
              "0  1872-11-30  Scotland   England  ...  Glasgow  Scotland   False\n",
              "1  1873-03-08   England  Scotland  ...   London   England   False\n",
              "2  1874-03-07  Scotland   England  ...  Glasgow  Scotland   False\n",
              "3  1875-03-06   England  Scotland  ...   London   England   False\n",
              "4  1876-03-04  Scotland   England  ...  Glasgow  Scotland   False\n",
              "\n",
              "[5 rows x 9 columns]"
            ]
          },
          "metadata": {
            "tags": []
          },
          "execution_count": 4
        }
      ]
    },
    {
      "cell_type": "code",
      "metadata": {
        "id": "Ky8GwLolMTWW",
        "outputId": "61c56e05-3c31-472e-9db1-afdab6ad3d5e",
        "colab": {
          "base_uri": "https://localhost:8080/",
          "height": 306
        }
      },
      "source": [
        "#checking for missing values\n",
        "print(fifa.isnull().sum())\n"
      ],
      "execution_count": 5,
      "outputs": [
        {
          "output_type": "stream",
          "text": [
            "rank                       0\n",
            "country_full               0\n",
            "country_abrv               0\n",
            "total_points               0\n",
            "previous_points            0\n",
            "rank_change                0\n",
            "cur_year_avg               0\n",
            "cur_year_avg_weighted      0\n",
            "last_year_avg              0\n",
            "last_year_avg_weighted     0\n",
            "two_year_ago_avg           0\n",
            "two_year_ago_weighted      0\n",
            "three_year_ago_avg         0\n",
            "three_year_ago_weighted    0\n",
            "confederation              0\n",
            "rank_date                  0\n",
            "dtype: int64\n"
          ],
          "name": "stdout"
        }
      ]
    },
    {
      "cell_type": "markdown",
      "metadata": {
        "id": "7_LZCqA8Ex2o"
      },
      "source": [
        "# Performing your EDA and  feature engineering "
      ]
    },
    {
      "cell_type": "code",
      "metadata": {
        "id": "vj7ZANhUMTeQ",
        "outputId": "18ba3c23-d7cd-4913-965f-e56a46364a09",
        "colab": {
          "base_uri": "https://localhost:8080/",
          "height": 34
        }
      },
      "source": [
        "#checking for duplicates\n",
        "print(fifa.duplicated().sum())"
      ],
      "execution_count": 6,
      "outputs": [
        {
          "output_type": "stream",
          "text": [
            "37\n"
          ],
          "name": "stdout"
        }
      ]
    },
    {
      "cell_type": "code",
      "metadata": {
        "id": "OyIIkU3xMzRH"
      },
      "source": [
        "#Drop the duplicates \n",
        "\n",
        "fifa.drop_duplicates(keep='first', inplace = True)"
      ],
      "execution_count": 7,
      "outputs": []
    },
    {
      "cell_type": "code",
      "metadata": {
        "id": "GupJTmvhPKOb",
        "outputId": "9bb47b68-9c86-451d-b34e-04b9504e267a",
        "colab": {
          "base_uri": "https://localhost:8080/",
          "height": 34
        }
      },
      "source": [
        "fifa.shape"
      ],
      "execution_count": 8,
      "outputs": [
        {
          "output_type": "execute_result",
          "data": {
            "text/plain": [
              "(57756, 16)"
            ]
          },
          "metadata": {
            "tags": []
          },
          "execution_count": 8
        }
      ]
    },
    {
      "cell_type": "code",
      "metadata": {
        "id": "G2BmmUkFMTp-",
        "outputId": "33209d11-c984-4fa7-8b56-c088845ef1a5",
        "colab": {
          "base_uri": "https://localhost:8080/",
          "height": 317
        }
      },
      "source": [
        "# properties of the fifa dataset\n",
        "fifa.describe()"
      ],
      "execution_count": 9,
      "outputs": [
        {
          "output_type": "execute_result",
          "data": {
            "text/html": [
              "<div>\n",
              "<style scoped>\n",
              "    .dataframe tbody tr th:only-of-type {\n",
              "        vertical-align: middle;\n",
              "    }\n",
              "\n",
              "    .dataframe tbody tr th {\n",
              "        vertical-align: top;\n",
              "    }\n",
              "\n",
              "    .dataframe thead th {\n",
              "        text-align: right;\n",
              "    }\n",
              "</style>\n",
              "<table border=\"1\" class=\"dataframe\">\n",
              "  <thead>\n",
              "    <tr style=\"text-align: right;\">\n",
              "      <th></th>\n",
              "      <th>rank</th>\n",
              "      <th>total_points</th>\n",
              "      <th>previous_points</th>\n",
              "      <th>rank_change</th>\n",
              "      <th>cur_year_avg</th>\n",
              "      <th>cur_year_avg_weighted</th>\n",
              "      <th>last_year_avg</th>\n",
              "      <th>last_year_avg_weighted</th>\n",
              "      <th>two_year_ago_avg</th>\n",
              "      <th>two_year_ago_weighted</th>\n",
              "      <th>three_year_ago_avg</th>\n",
              "      <th>three_year_ago_weighted</th>\n",
              "    </tr>\n",
              "  </thead>\n",
              "  <tbody>\n",
              "    <tr>\n",
              "      <th>count</th>\n",
              "      <td>57756.000000</td>\n",
              "      <td>57756.000000</td>\n",
              "      <td>57756.000000</td>\n",
              "      <td>57756.000000</td>\n",
              "      <td>57756.000000</td>\n",
              "      <td>57756.000000</td>\n",
              "      <td>57756.000000</td>\n",
              "      <td>57756.000000</td>\n",
              "      <td>57756.000000</td>\n",
              "      <td>57756.000000</td>\n",
              "      <td>57756.000000</td>\n",
              "      <td>57756.000000</td>\n",
              "    </tr>\n",
              "    <tr>\n",
              "      <th>mean</th>\n",
              "      <td>101.618118</td>\n",
              "      <td>121.971151</td>\n",
              "      <td>332.339965</td>\n",
              "      <td>-0.009938</td>\n",
              "      <td>61.751362</td>\n",
              "      <td>61.751362</td>\n",
              "      <td>60.953507</td>\n",
              "      <td>30.476830</td>\n",
              "      <td>59.734768</td>\n",
              "      <td>17.920469</td>\n",
              "      <td>59.114466</td>\n",
              "      <td>11.822922</td>\n",
              "    </tr>\n",
              "    <tr>\n",
              "      <th>std</th>\n",
              "      <td>58.635096</td>\n",
              "      <td>260.479191</td>\n",
              "      <td>302.964176</td>\n",
              "      <td>5.802788</td>\n",
              "      <td>138.042006</td>\n",
              "      <td>138.042006</td>\n",
              "      <td>137.712945</td>\n",
              "      <td>68.856514</td>\n",
              "      <td>136.319119</td>\n",
              "      <td>40.895761</td>\n",
              "      <td>135.540135</td>\n",
              "      <td>27.108034</td>\n",
              "    </tr>\n",
              "    <tr>\n",
              "      <th>min</th>\n",
              "      <td>1.000000</td>\n",
              "      <td>0.000000</td>\n",
              "      <td>0.000000</td>\n",
              "      <td>-72.000000</td>\n",
              "      <td>0.000000</td>\n",
              "      <td>0.000000</td>\n",
              "      <td>0.000000</td>\n",
              "      <td>0.000000</td>\n",
              "      <td>0.000000</td>\n",
              "      <td>0.000000</td>\n",
              "      <td>0.000000</td>\n",
              "      <td>0.000000</td>\n",
              "    </tr>\n",
              "    <tr>\n",
              "      <th>25%</th>\n",
              "      <td>51.000000</td>\n",
              "      <td>0.000000</td>\n",
              "      <td>56.000000</td>\n",
              "      <td>-2.000000</td>\n",
              "      <td>0.000000</td>\n",
              "      <td>0.000000</td>\n",
              "      <td>0.000000</td>\n",
              "      <td>0.000000</td>\n",
              "      <td>0.000000</td>\n",
              "      <td>0.000000</td>\n",
              "      <td>0.000000</td>\n",
              "      <td>0.000000</td>\n",
              "    </tr>\n",
              "    <tr>\n",
              "      <th>50%</th>\n",
              "      <td>101.000000</td>\n",
              "      <td>0.000000</td>\n",
              "      <td>272.000000</td>\n",
              "      <td>0.000000</td>\n",
              "      <td>0.000000</td>\n",
              "      <td>0.000000</td>\n",
              "      <td>0.000000</td>\n",
              "      <td>0.000000</td>\n",
              "      <td>0.000000</td>\n",
              "      <td>0.000000</td>\n",
              "      <td>0.000000</td>\n",
              "      <td>0.000000</td>\n",
              "    </tr>\n",
              "    <tr>\n",
              "      <th>75%</th>\n",
              "      <td>152.000000</td>\n",
              "      <td>91.500000</td>\n",
              "      <td>525.000000</td>\n",
              "      <td>1.000000</td>\n",
              "      <td>30.447500</td>\n",
              "      <td>30.447500</td>\n",
              "      <td>26.400000</td>\n",
              "      <td>13.200000</td>\n",
              "      <td>21.250000</td>\n",
              "      <td>6.380000</td>\n",
              "      <td>20.795000</td>\n",
              "      <td>4.162500</td>\n",
              "    </tr>\n",
              "    <tr>\n",
              "      <th>max</th>\n",
              "      <td>209.000000</td>\n",
              "      <td>1775.030000</td>\n",
              "      <td>1920.000000</td>\n",
              "      <td>92.000000</td>\n",
              "      <td>1158.660000</td>\n",
              "      <td>1158.660000</td>\n",
              "      <td>1169.570000</td>\n",
              "      <td>584.790000</td>\n",
              "      <td>1159.710000</td>\n",
              "      <td>347.910000</td>\n",
              "      <td>1200.770000</td>\n",
              "      <td>240.150000</td>\n",
              "    </tr>\n",
              "  </tbody>\n",
              "</table>\n",
              "</div>"
            ],
            "text/plain": [
              "               rank  total_points  ...  three_year_ago_avg  three_year_ago_weighted\n",
              "count  57756.000000  57756.000000  ...        57756.000000             57756.000000\n",
              "mean     101.618118    121.971151  ...           59.114466                11.822922\n",
              "std       58.635096    260.479191  ...          135.540135                27.108034\n",
              "min        1.000000      0.000000  ...            0.000000                 0.000000\n",
              "25%       51.000000      0.000000  ...            0.000000                 0.000000\n",
              "50%      101.000000      0.000000  ...            0.000000                 0.000000\n",
              "75%      152.000000     91.500000  ...           20.795000                 4.162500\n",
              "max      209.000000   1775.030000  ...         1200.770000               240.150000\n",
              "\n",
              "[8 rows x 12 columns]"
            ]
          },
          "metadata": {
            "tags": []
          },
          "execution_count": 9
        }
      ]
    },
    {
      "cell_type": "code",
      "metadata": {
        "id": "-B6LC5MZR6aY",
        "outputId": "203e7c19-b9f2-42bf-a21f-cc7c07f2a148",
        "colab": {
          "base_uri": "https://localhost:8080/",
          "height": 119
        }
      },
      "source": [
        "fifa.columns"
      ],
      "execution_count": 10,
      "outputs": [
        {
          "output_type": "execute_result",
          "data": {
            "text/plain": [
              "Index(['rank', 'country_full', 'country_abrv', 'total_points',\n",
              "       'previous_points', 'rank_change', 'cur_year_avg',\n",
              "       'cur_year_avg_weighted', 'last_year_avg', 'last_year_avg_weighted',\n",
              "       'two_year_ago_avg', 'two_year_ago_weighted', 'three_year_ago_avg',\n",
              "       'three_year_ago_weighted', 'confederation', 'rank_date'],\n",
              "      dtype='object')"
            ]
          },
          "metadata": {
            "tags": []
          },
          "execution_count": 10
        }
      ]
    },
    {
      "cell_type": "code",
      "metadata": {
        "id": "0X9Km2JXMT06",
        "outputId": "24a5aa36-e300-444a-b2c4-955726043334",
        "colab": {
          "base_uri": "https://localhost:8080/",
          "height": 204
        }
      },
      "source": [
        "#selecting columns we will use\n",
        "fifa_df = fifa[['rank', 'country_full', 'rank_date']]\n",
        "fifa_df.head()"
      ],
      "execution_count": 11,
      "outputs": [
        {
          "output_type": "execute_result",
          "data": {
            "text/html": [
              "<div>\n",
              "<style scoped>\n",
              "    .dataframe tbody tr th:only-of-type {\n",
              "        vertical-align: middle;\n",
              "    }\n",
              "\n",
              "    .dataframe tbody tr th {\n",
              "        vertical-align: top;\n",
              "    }\n",
              "\n",
              "    .dataframe thead th {\n",
              "        text-align: right;\n",
              "    }\n",
              "</style>\n",
              "<table border=\"1\" class=\"dataframe\">\n",
              "  <thead>\n",
              "    <tr style=\"text-align: right;\">\n",
              "      <th></th>\n",
              "      <th>rank</th>\n",
              "      <th>country_full</th>\n",
              "      <th>rank_date</th>\n",
              "    </tr>\n",
              "  </thead>\n",
              "  <tbody>\n",
              "    <tr>\n",
              "      <th>0</th>\n",
              "      <td>1</td>\n",
              "      <td>Germany</td>\n",
              "      <td>1993-08-08</td>\n",
              "    </tr>\n",
              "    <tr>\n",
              "      <th>1</th>\n",
              "      <td>2</td>\n",
              "      <td>Italy</td>\n",
              "      <td>1993-08-08</td>\n",
              "    </tr>\n",
              "    <tr>\n",
              "      <th>2</th>\n",
              "      <td>3</td>\n",
              "      <td>Switzerland</td>\n",
              "      <td>1993-08-08</td>\n",
              "    </tr>\n",
              "    <tr>\n",
              "      <th>3</th>\n",
              "      <td>4</td>\n",
              "      <td>Sweden</td>\n",
              "      <td>1993-08-08</td>\n",
              "    </tr>\n",
              "    <tr>\n",
              "      <th>4</th>\n",
              "      <td>5</td>\n",
              "      <td>Argentina</td>\n",
              "      <td>1993-08-08</td>\n",
              "    </tr>\n",
              "  </tbody>\n",
              "</table>\n",
              "</div>"
            ],
            "text/plain": [
              "   rank country_full   rank_date\n",
              "0     1      Germany  1993-08-08\n",
              "1     2        Italy  1993-08-08\n",
              "2     3  Switzerland  1993-08-08\n",
              "3     4       Sweden  1993-08-08\n",
              "4     5    Argentina  1993-08-08"
            ]
          },
          "metadata": {
            "tags": []
          },
          "execution_count": 11
        }
      ]
    },
    {
      "cell_type": "code",
      "metadata": {
        "id": "6bjQ9bNWMUBg",
        "outputId": "7f4c72ba-147a-46c2-b4f8-45b03bb299a5",
        "colab": {
          "base_uri": "https://localhost:8080/",
          "height": 187
        }
      },
      "source": [
        "fifa_df.info()"
      ],
      "execution_count": 12,
      "outputs": [
        {
          "output_type": "stream",
          "text": [
            "<class 'pandas.core.frame.DataFrame'>\n",
            "Int64Index: 57756 entries, 0 to 57792\n",
            "Data columns (total 3 columns):\n",
            " #   Column        Non-Null Count  Dtype \n",
            "---  ------        --------------  ----- \n",
            " 0   rank          57756 non-null  int64 \n",
            " 1   country_full  57756 non-null  object\n",
            " 2   rank_date     57756 non-null  object\n",
            "dtypes: int64(1), object(2)\n",
            "memory usage: 1.8+ MB\n"
          ],
          "name": "stdout"
        }
      ]
    },
    {
      "cell_type": "code",
      "metadata": {
        "id": "Z2WbFHWbMUFs",
        "outputId": "d65d6c73-8dc6-4a0c-9f9f-7adee08825f7",
        "colab": {
          "base_uri": "https://localhost:8080/",
          "height": 323
        }
      },
      "source": [
        "fifa_df['rank_date'] = pd.to_datetime(fifa_df['rank_date'])\n",
        "fifa_df['rank_date']"
      ],
      "execution_count": 13,
      "outputs": [
        {
          "output_type": "stream",
          "text": [
            "/usr/local/lib/python3.6/dist-packages/ipykernel_launcher.py:1: SettingWithCopyWarning: \n",
            "A value is trying to be set on a copy of a slice from a DataFrame.\n",
            "Try using .loc[row_indexer,col_indexer] = value instead\n",
            "\n",
            "See the caveats in the documentation: https://pandas.pydata.org/pandas-docs/stable/user_guide/indexing.html#returning-a-view-versus-a-copy\n",
            "  \"\"\"Entry point for launching an IPython kernel.\n"
          ],
          "name": "stderr"
        },
        {
          "output_type": "execute_result",
          "data": {
            "text/plain": [
              "0       1993-08-08\n",
              "1       1993-08-08\n",
              "2       1993-08-08\n",
              "3       1993-08-08\n",
              "4       1993-08-08\n",
              "           ...    \n",
              "57788   2018-06-07\n",
              "57789   2018-06-07\n",
              "57790   2018-06-07\n",
              "57791   2018-06-07\n",
              "57792   2018-06-07\n",
              "Name: rank_date, Length: 57756, dtype: datetime64[ns]"
            ]
          },
          "metadata": {
            "tags": []
          },
          "execution_count": 13
        }
      ]
    },
    {
      "cell_type": "code",
      "metadata": {
        "id": "86syRHZOMTxP",
        "outputId": "fa3b28f0-22fd-46db-e571-526e605bad98",
        "colab": {
          "base_uri": "https://localhost:8080/",
          "height": 204
        }
      },
      "source": [
        "#renaming the country and date column to match the results datset for easier merging\n",
        "fifa_df.columns = ['rank', 'country', 'date']\n",
        "fifa_df.head()"
      ],
      "execution_count": 14,
      "outputs": [
        {
          "output_type": "execute_result",
          "data": {
            "text/html": [
              "<div>\n",
              "<style scoped>\n",
              "    .dataframe tbody tr th:only-of-type {\n",
              "        vertical-align: middle;\n",
              "    }\n",
              "\n",
              "    .dataframe tbody tr th {\n",
              "        vertical-align: top;\n",
              "    }\n",
              "\n",
              "    .dataframe thead th {\n",
              "        text-align: right;\n",
              "    }\n",
              "</style>\n",
              "<table border=\"1\" class=\"dataframe\">\n",
              "  <thead>\n",
              "    <tr style=\"text-align: right;\">\n",
              "      <th></th>\n",
              "      <th>rank</th>\n",
              "      <th>country</th>\n",
              "      <th>date</th>\n",
              "    </tr>\n",
              "  </thead>\n",
              "  <tbody>\n",
              "    <tr>\n",
              "      <th>0</th>\n",
              "      <td>1</td>\n",
              "      <td>Germany</td>\n",
              "      <td>1993-08-08</td>\n",
              "    </tr>\n",
              "    <tr>\n",
              "      <th>1</th>\n",
              "      <td>2</td>\n",
              "      <td>Italy</td>\n",
              "      <td>1993-08-08</td>\n",
              "    </tr>\n",
              "    <tr>\n",
              "      <th>2</th>\n",
              "      <td>3</td>\n",
              "      <td>Switzerland</td>\n",
              "      <td>1993-08-08</td>\n",
              "    </tr>\n",
              "    <tr>\n",
              "      <th>3</th>\n",
              "      <td>4</td>\n",
              "      <td>Sweden</td>\n",
              "      <td>1993-08-08</td>\n",
              "    </tr>\n",
              "    <tr>\n",
              "      <th>4</th>\n",
              "      <td>5</td>\n",
              "      <td>Argentina</td>\n",
              "      <td>1993-08-08</td>\n",
              "    </tr>\n",
              "  </tbody>\n",
              "</table>\n",
              "</div>"
            ],
            "text/plain": [
              "   rank      country       date\n",
              "0     1      Germany 1993-08-08\n",
              "1     2        Italy 1993-08-08\n",
              "2     3  Switzerland 1993-08-08\n",
              "3     4       Sweden 1993-08-08\n",
              "4     5    Argentina 1993-08-08"
            ]
          },
          "metadata": {
            "tags": []
          },
          "execution_count": 14
        }
      ]
    },
    {
      "cell_type": "code",
      "metadata": {
        "id": "0CEL5DvOzanO",
        "outputId": "b1e3792a-82e8-42f3-8648-0ebd5e9b25a5",
        "colab": {
          "base_uri": "https://localhost:8080/",
          "height": 34
        }
      },
      "source": [
        "fifa_df.columns"
      ],
      "execution_count": 15,
      "outputs": [
        {
          "output_type": "execute_result",
          "data": {
            "text/plain": [
              "Index(['rank', 'country', 'date'], dtype='object')"
            ]
          },
          "metadata": {
            "tags": []
          },
          "execution_count": 15
        }
      ]
    },
    {
      "cell_type": "code",
      "metadata": {
        "id": "RAbo21n6ZK5R",
        "outputId": "6188717c-0946-4a22-bae5-991a36c26b7e",
        "colab": {
          "base_uri": "https://localhost:8080/",
          "height": 204
        }
      },
      "source": [
        "#cleaning up the results dataset for merging\n",
        "results.head()"
      ],
      "execution_count": 16,
      "outputs": [
        {
          "output_type": "execute_result",
          "data": {
            "text/html": [
              "<div>\n",
              "<style scoped>\n",
              "    .dataframe tbody tr th:only-of-type {\n",
              "        vertical-align: middle;\n",
              "    }\n",
              "\n",
              "    .dataframe tbody tr th {\n",
              "        vertical-align: top;\n",
              "    }\n",
              "\n",
              "    .dataframe thead th {\n",
              "        text-align: right;\n",
              "    }\n",
              "</style>\n",
              "<table border=\"1\" class=\"dataframe\">\n",
              "  <thead>\n",
              "    <tr style=\"text-align: right;\">\n",
              "      <th></th>\n",
              "      <th>date</th>\n",
              "      <th>home_team</th>\n",
              "      <th>away_team</th>\n",
              "      <th>home_score</th>\n",
              "      <th>away_score</th>\n",
              "      <th>tournament</th>\n",
              "      <th>city</th>\n",
              "      <th>country</th>\n",
              "      <th>neutral</th>\n",
              "    </tr>\n",
              "  </thead>\n",
              "  <tbody>\n",
              "    <tr>\n",
              "      <th>0</th>\n",
              "      <td>1872-11-30</td>\n",
              "      <td>Scotland</td>\n",
              "      <td>England</td>\n",
              "      <td>0</td>\n",
              "      <td>0</td>\n",
              "      <td>Friendly</td>\n",
              "      <td>Glasgow</td>\n",
              "      <td>Scotland</td>\n",
              "      <td>False</td>\n",
              "    </tr>\n",
              "    <tr>\n",
              "      <th>1</th>\n",
              "      <td>1873-03-08</td>\n",
              "      <td>England</td>\n",
              "      <td>Scotland</td>\n",
              "      <td>4</td>\n",
              "      <td>2</td>\n",
              "      <td>Friendly</td>\n",
              "      <td>London</td>\n",
              "      <td>England</td>\n",
              "      <td>False</td>\n",
              "    </tr>\n",
              "    <tr>\n",
              "      <th>2</th>\n",
              "      <td>1874-03-07</td>\n",
              "      <td>Scotland</td>\n",
              "      <td>England</td>\n",
              "      <td>2</td>\n",
              "      <td>1</td>\n",
              "      <td>Friendly</td>\n",
              "      <td>Glasgow</td>\n",
              "      <td>Scotland</td>\n",
              "      <td>False</td>\n",
              "    </tr>\n",
              "    <tr>\n",
              "      <th>3</th>\n",
              "      <td>1875-03-06</td>\n",
              "      <td>England</td>\n",
              "      <td>Scotland</td>\n",
              "      <td>2</td>\n",
              "      <td>2</td>\n",
              "      <td>Friendly</td>\n",
              "      <td>London</td>\n",
              "      <td>England</td>\n",
              "      <td>False</td>\n",
              "    </tr>\n",
              "    <tr>\n",
              "      <th>4</th>\n",
              "      <td>1876-03-04</td>\n",
              "      <td>Scotland</td>\n",
              "      <td>England</td>\n",
              "      <td>3</td>\n",
              "      <td>0</td>\n",
              "      <td>Friendly</td>\n",
              "      <td>Glasgow</td>\n",
              "      <td>Scotland</td>\n",
              "      <td>False</td>\n",
              "    </tr>\n",
              "  </tbody>\n",
              "</table>\n",
              "</div>"
            ],
            "text/plain": [
              "         date home_team away_team  ...     city   country neutral\n",
              "0  1872-11-30  Scotland   England  ...  Glasgow  Scotland   False\n",
              "1  1873-03-08   England  Scotland  ...   London   England   False\n",
              "2  1874-03-07  Scotland   England  ...  Glasgow  Scotland   False\n",
              "3  1875-03-06   England  Scotland  ...   London   England   False\n",
              "4  1876-03-04  Scotland   England  ...  Glasgow  Scotland   False\n",
              "\n",
              "[5 rows x 9 columns]"
            ]
          },
          "metadata": {
            "tags": []
          },
          "execution_count": 16
        }
      ]
    },
    {
      "cell_type": "code",
      "metadata": {
        "id": "2YyxkEOrZK9s",
        "outputId": "ded5e7e7-7782-44a4-d3ff-cf5dbea3d15a",
        "colab": {
          "base_uri": "https://localhost:8080/",
          "height": 297
        }
      },
      "source": [
        "results.describe()"
      ],
      "execution_count": 17,
      "outputs": [
        {
          "output_type": "execute_result",
          "data": {
            "text/html": [
              "<div>\n",
              "<style scoped>\n",
              "    .dataframe tbody tr th:only-of-type {\n",
              "        vertical-align: middle;\n",
              "    }\n",
              "\n",
              "    .dataframe tbody tr th {\n",
              "        vertical-align: top;\n",
              "    }\n",
              "\n",
              "    .dataframe thead th {\n",
              "        text-align: right;\n",
              "    }\n",
              "</style>\n",
              "<table border=\"1\" class=\"dataframe\">\n",
              "  <thead>\n",
              "    <tr style=\"text-align: right;\">\n",
              "      <th></th>\n",
              "      <th>home_score</th>\n",
              "      <th>away_score</th>\n",
              "    </tr>\n",
              "  </thead>\n",
              "  <tbody>\n",
              "    <tr>\n",
              "      <th>count</th>\n",
              "      <td>40839.000000</td>\n",
              "      <td>40839.000000</td>\n",
              "    </tr>\n",
              "    <tr>\n",
              "      <th>mean</th>\n",
              "      <td>1.745709</td>\n",
              "      <td>1.188105</td>\n",
              "    </tr>\n",
              "    <tr>\n",
              "      <th>std</th>\n",
              "      <td>1.749145</td>\n",
              "      <td>1.405120</td>\n",
              "    </tr>\n",
              "    <tr>\n",
              "      <th>min</th>\n",
              "      <td>0.000000</td>\n",
              "      <td>0.000000</td>\n",
              "    </tr>\n",
              "    <tr>\n",
              "      <th>25%</th>\n",
              "      <td>1.000000</td>\n",
              "      <td>0.000000</td>\n",
              "    </tr>\n",
              "    <tr>\n",
              "      <th>50%</th>\n",
              "      <td>1.000000</td>\n",
              "      <td>1.000000</td>\n",
              "    </tr>\n",
              "    <tr>\n",
              "      <th>75%</th>\n",
              "      <td>2.000000</td>\n",
              "      <td>2.000000</td>\n",
              "    </tr>\n",
              "    <tr>\n",
              "      <th>max</th>\n",
              "      <td>31.000000</td>\n",
              "      <td>21.000000</td>\n",
              "    </tr>\n",
              "  </tbody>\n",
              "</table>\n",
              "</div>"
            ],
            "text/plain": [
              "         home_score    away_score\n",
              "count  40839.000000  40839.000000\n",
              "mean       1.745709      1.188105\n",
              "std        1.749145      1.405120\n",
              "min        0.000000      0.000000\n",
              "25%        1.000000      0.000000\n",
              "50%        1.000000      1.000000\n",
              "75%        2.000000      2.000000\n",
              "max       31.000000     21.000000"
            ]
          },
          "metadata": {
            "tags": []
          },
          "execution_count": 17
        }
      ]
    },
    {
      "cell_type": "code",
      "metadata": {
        "id": "HDI8bcZdBXSY",
        "outputId": "0951123c-1816-4750-9f48-2015cb9b7cbe",
        "colab": {
          "base_uri": "https://localhost:8080/",
          "height": 204
        }
      },
      "source": [
        "#selecting columns we will use\n",
        "results= results[['date', 'home_team', 'away_team', 'home_score', 'away_score', 'tournament', 'country']]\n",
        "results.head()"
      ],
      "execution_count": 18,
      "outputs": [
        {
          "output_type": "execute_result",
          "data": {
            "text/html": [
              "<div>\n",
              "<style scoped>\n",
              "    .dataframe tbody tr th:only-of-type {\n",
              "        vertical-align: middle;\n",
              "    }\n",
              "\n",
              "    .dataframe tbody tr th {\n",
              "        vertical-align: top;\n",
              "    }\n",
              "\n",
              "    .dataframe thead th {\n",
              "        text-align: right;\n",
              "    }\n",
              "</style>\n",
              "<table border=\"1\" class=\"dataframe\">\n",
              "  <thead>\n",
              "    <tr style=\"text-align: right;\">\n",
              "      <th></th>\n",
              "      <th>date</th>\n",
              "      <th>home_team</th>\n",
              "      <th>away_team</th>\n",
              "      <th>home_score</th>\n",
              "      <th>away_score</th>\n",
              "      <th>tournament</th>\n",
              "      <th>country</th>\n",
              "    </tr>\n",
              "  </thead>\n",
              "  <tbody>\n",
              "    <tr>\n",
              "      <th>0</th>\n",
              "      <td>1872-11-30</td>\n",
              "      <td>Scotland</td>\n",
              "      <td>England</td>\n",
              "      <td>0</td>\n",
              "      <td>0</td>\n",
              "      <td>Friendly</td>\n",
              "      <td>Scotland</td>\n",
              "    </tr>\n",
              "    <tr>\n",
              "      <th>1</th>\n",
              "      <td>1873-03-08</td>\n",
              "      <td>England</td>\n",
              "      <td>Scotland</td>\n",
              "      <td>4</td>\n",
              "      <td>2</td>\n",
              "      <td>Friendly</td>\n",
              "      <td>England</td>\n",
              "    </tr>\n",
              "    <tr>\n",
              "      <th>2</th>\n",
              "      <td>1874-03-07</td>\n",
              "      <td>Scotland</td>\n",
              "      <td>England</td>\n",
              "      <td>2</td>\n",
              "      <td>1</td>\n",
              "      <td>Friendly</td>\n",
              "      <td>Scotland</td>\n",
              "    </tr>\n",
              "    <tr>\n",
              "      <th>3</th>\n",
              "      <td>1875-03-06</td>\n",
              "      <td>England</td>\n",
              "      <td>Scotland</td>\n",
              "      <td>2</td>\n",
              "      <td>2</td>\n",
              "      <td>Friendly</td>\n",
              "      <td>England</td>\n",
              "    </tr>\n",
              "    <tr>\n",
              "      <th>4</th>\n",
              "      <td>1876-03-04</td>\n",
              "      <td>Scotland</td>\n",
              "      <td>England</td>\n",
              "      <td>3</td>\n",
              "      <td>0</td>\n",
              "      <td>Friendly</td>\n",
              "      <td>Scotland</td>\n",
              "    </tr>\n",
              "  </tbody>\n",
              "</table>\n",
              "</div>"
            ],
            "text/plain": [
              "         date home_team away_team  home_score  away_score tournament   country\n",
              "0  1872-11-30  Scotland   England           0           0   Friendly  Scotland\n",
              "1  1873-03-08   England  Scotland           4           2   Friendly   England\n",
              "2  1874-03-07  Scotland   England           2           1   Friendly  Scotland\n",
              "3  1875-03-06   England  Scotland           2           2   Friendly   England\n",
              "4  1876-03-04  Scotland   England           3           0   Friendly  Scotland"
            ]
          },
          "metadata": {
            "tags": []
          },
          "execution_count": 18
        }
      ]
    },
    {
      "cell_type": "code",
      "metadata": {
        "id": "2rMqbbR2pQY5",
        "outputId": "36042296-7586-4115-893c-0bc54685d898",
        "colab": {
          "base_uri": "https://localhost:8080/",
          "height": 68
        }
      },
      "source": [
        "results.columns"
      ],
      "execution_count": 19,
      "outputs": [
        {
          "output_type": "execute_result",
          "data": {
            "text/plain": [
              "Index(['date', 'home_team', 'away_team', 'home_score', 'away_score',\n",
              "       'tournament', 'country'],\n",
              "      dtype='object')"
            ]
          },
          "metadata": {
            "tags": []
          },
          "execution_count": 19
        }
      ]
    },
    {
      "cell_type": "code",
      "metadata": {
        "id": "PBi93lHZkYaB",
        "outputId": "b3f6e42a-8fb0-4370-c429-e4a0e95010a3",
        "colab": {
          "base_uri": "https://localhost:8080/",
          "height": 255
        }
      },
      "source": [
        "results.info()"
      ],
      "execution_count": 20,
      "outputs": [
        {
          "output_type": "stream",
          "text": [
            "<class 'pandas.core.frame.DataFrame'>\n",
            "RangeIndex: 40839 entries, 0 to 40838\n",
            "Data columns (total 7 columns):\n",
            " #   Column      Non-Null Count  Dtype \n",
            "---  ------      --------------  ----- \n",
            " 0   date        40839 non-null  object\n",
            " 1   home_team   40839 non-null  object\n",
            " 2   away_team   40839 non-null  object\n",
            " 3   home_score  40839 non-null  int64 \n",
            " 4   away_score  40839 non-null  int64 \n",
            " 5   tournament  40839 non-null  object\n",
            " 6   country     40839 non-null  object\n",
            "dtypes: int64(2), object(5)\n",
            "memory usage: 2.2+ MB\n"
          ],
          "name": "stdout"
        }
      ]
    },
    {
      "cell_type": "code",
      "metadata": {
        "id": "-uDbln0nkYqz",
        "outputId": "4796e3cd-d570-4349-a933-18c3b58f0d6a",
        "colab": {
          "base_uri": "https://localhost:8080/",
          "height": 221
        }
      },
      "source": [
        "#changing the date to datetime\n",
        "results['date'] = pd.to_datetime(results['date'])\n",
        "results['date']"
      ],
      "execution_count": 21,
      "outputs": [
        {
          "output_type": "execute_result",
          "data": {
            "text/plain": [
              "0       1872-11-30\n",
              "1       1873-03-08\n",
              "2       1874-03-07\n",
              "3       1875-03-06\n",
              "4       1876-03-04\n",
              "           ...    \n",
              "40834   2019-07-18\n",
              "40835   2019-07-18\n",
              "40836   2019-07-19\n",
              "40837   2019-07-19\n",
              "40838   2019-07-20\n",
              "Name: date, Length: 40839, dtype: datetime64[ns]"
            ]
          },
          "metadata": {
            "tags": []
          },
          "execution_count": 21
        }
      ]
    },
    {
      "cell_type": "code",
      "metadata": {
        "id": "HKo13AvdlaQt",
        "outputId": "15f1f9fd-6540-4d3d-908d-378793d7cc13",
        "colab": {
          "base_uri": "https://localhost:8080/",
          "height": 360
        }
      },
      "source": [
        "print(results['date'].describe())\n",
        "\n",
        "print(\"................................................\")\n",
        "print(fifa_df['date'].describe())"
      ],
      "execution_count": 22,
      "outputs": [
        {
          "output_type": "stream",
          "text": [
            "count                   40839\n",
            "unique                  15115\n",
            "top       2012-02-29 00:00:00\n",
            "freq                       66\n",
            "first     1872-11-30 00:00:00\n",
            "last      2019-07-20 00:00:00\n",
            "Name: date, dtype: object\n",
            "................................................\n",
            "count                   57756\n",
            "unique                    286\n",
            "top       2017-04-06 00:00:00\n",
            "freq                      211\n",
            "first     1993-08-08 00:00:00\n",
            "last      2018-06-07 00:00:00\n",
            "Name: date, dtype: object\n"
          ],
          "name": "stdout"
        },
        {
          "output_type": "stream",
          "text": [
            "/usr/local/lib/python3.6/dist-packages/ipykernel_launcher.py:1: FutureWarning: Treating datetime data as categorical rather than numeric in `.describe` is deprecated and will be removed in a future version of pandas. Specify `datetime_is_numeric=True` to silence this warning and adopt the future behavior now.\n",
            "  \"\"\"Entry point for launching an IPython kernel.\n",
            "/usr/local/lib/python3.6/dist-packages/ipykernel_launcher.py:4: FutureWarning: Treating datetime data as categorical rather than numeric in `.describe` is deprecated and will be removed in a future version of pandas. Specify `datetime_is_numeric=True` to silence this warning and adopt the future behavior now.\n",
            "  after removing the cwd from sys.path.\n"
          ],
          "name": "stderr"
        }
      ]
    },
    {
      "cell_type": "code",
      "metadata": {
        "id": "1-878VBMlaYM",
        "outputId": "84ff18ca-dff5-42ae-d33e-d1d92e27c297",
        "colab": {
          "base_uri": "https://localhost:8080/",
          "height": 34
        }
      },
      "source": [
        "#dropping date before 1993 in the result dataframe since they do not have corresponding records in the fifa dataframe.\n",
        "results_df = results[results[\"date\"] > '1993-01-01']\n",
        "results_df.shape\n"
      ],
      "execution_count": 23,
      "outputs": [
        {
          "output_type": "execute_result",
          "data": {
            "text/plain": [
              "(23477, 7)"
            ]
          },
          "metadata": {
            "tags": []
          },
          "execution_count": 23
        }
      ]
    },
    {
      "cell_type": "markdown",
      "metadata": {
        "id": "nB-X-qFDE-pH"
      },
      "source": [
        "# **merging the datasets**"
      ]
    },
    {
      "cell_type": "code",
      "metadata": {
        "id": "-55JJ4VjmNeV"
      },
      "source": [
        ""
      ],
      "execution_count": 23,
      "outputs": []
    },
    {
      "cell_type": "code",
      "metadata": {
        "id": "_RQYs83IzC6w",
        "outputId": "ab7811c2-fd85-4d5e-8058-92e8058fd297",
        "colab": {
          "base_uri": "https://localhost:8080/",
          "height": 119
        }
      },
      "source": [
        "# Separate the date column into Year- Month of the fifa_ranking dataset\n",
        "fifa_df['year'] = pd.to_datetime(fifa_df['date']).dt.to_period('M')\n"
      ],
      "execution_count": 24,
      "outputs": [
        {
          "output_type": "stream",
          "text": [
            "/usr/local/lib/python3.6/dist-packages/ipykernel_launcher.py:2: SettingWithCopyWarning: \n",
            "A value is trying to be set on a copy of a slice from a DataFrame.\n",
            "Try using .loc[row_indexer,col_indexer] = value instead\n",
            "\n",
            "See the caveats in the documentation: https://pandas.pydata.org/pandas-docs/stable/user_guide/indexing.html#returning-a-view-versus-a-copy\n",
            "  \n"
          ],
          "name": "stderr"
        }
      ]
    },
    {
      "cell_type": "code",
      "metadata": {
        "id": "quEJSRNHzp6-",
        "outputId": "2a7adb0c-0072-4967-bc55-45b835480b7d",
        "colab": {
          "base_uri": "https://localhost:8080/",
          "height": 204
        }
      },
      "source": [
        "#calling out the year column in our fifa dataset for our final dataset\n",
        "fifa_df.head()"
      ],
      "execution_count": 25,
      "outputs": [
        {
          "output_type": "execute_result",
          "data": {
            "text/html": [
              "<div>\n",
              "<style scoped>\n",
              "    .dataframe tbody tr th:only-of-type {\n",
              "        vertical-align: middle;\n",
              "    }\n",
              "\n",
              "    .dataframe tbody tr th {\n",
              "        vertical-align: top;\n",
              "    }\n",
              "\n",
              "    .dataframe thead th {\n",
              "        text-align: right;\n",
              "    }\n",
              "</style>\n",
              "<table border=\"1\" class=\"dataframe\">\n",
              "  <thead>\n",
              "    <tr style=\"text-align: right;\">\n",
              "      <th></th>\n",
              "      <th>rank</th>\n",
              "      <th>country</th>\n",
              "      <th>date</th>\n",
              "      <th>year</th>\n",
              "    </tr>\n",
              "  </thead>\n",
              "  <tbody>\n",
              "    <tr>\n",
              "      <th>0</th>\n",
              "      <td>1</td>\n",
              "      <td>Germany</td>\n",
              "      <td>1993-08-08</td>\n",
              "      <td>1993-08</td>\n",
              "    </tr>\n",
              "    <tr>\n",
              "      <th>1</th>\n",
              "      <td>2</td>\n",
              "      <td>Italy</td>\n",
              "      <td>1993-08-08</td>\n",
              "      <td>1993-08</td>\n",
              "    </tr>\n",
              "    <tr>\n",
              "      <th>2</th>\n",
              "      <td>3</td>\n",
              "      <td>Switzerland</td>\n",
              "      <td>1993-08-08</td>\n",
              "      <td>1993-08</td>\n",
              "    </tr>\n",
              "    <tr>\n",
              "      <th>3</th>\n",
              "      <td>4</td>\n",
              "      <td>Sweden</td>\n",
              "      <td>1993-08-08</td>\n",
              "      <td>1993-08</td>\n",
              "    </tr>\n",
              "    <tr>\n",
              "      <th>4</th>\n",
              "      <td>5</td>\n",
              "      <td>Argentina</td>\n",
              "      <td>1993-08-08</td>\n",
              "      <td>1993-08</td>\n",
              "    </tr>\n",
              "  </tbody>\n",
              "</table>\n",
              "</div>"
            ],
            "text/plain": [
              "   rank      country       date     year\n",
              "0     1      Germany 1993-08-08  1993-08\n",
              "1     2        Italy 1993-08-08  1993-08\n",
              "2     3  Switzerland 1993-08-08  1993-08\n",
              "3     4       Sweden 1993-08-08  1993-08\n",
              "4     5    Argentina 1993-08-08  1993-08"
            ]
          },
          "metadata": {
            "tags": []
          },
          "execution_count": 25
        }
      ]
    },
    {
      "cell_type": "code",
      "metadata": {
        "id": "LVCeW1-pzvEW",
        "outputId": "d063ce89-7f72-4626-e199-d2025ee1b354",
        "colab": {
          "base_uri": "https://localhost:8080/",
          "height": 306
        }
      },
      "source": [
        "# Separate the date column into Year- Month of the fifa_ranking dataset\n",
        "results_df['year'] = pd.to_datetime(results_df['date']).dt.to_period('M')\n",
        "results_df.head()"
      ],
      "execution_count": 26,
      "outputs": [
        {
          "output_type": "stream",
          "text": [
            "/usr/local/lib/python3.6/dist-packages/ipykernel_launcher.py:2: SettingWithCopyWarning: \n",
            "A value is trying to be set on a copy of a slice from a DataFrame.\n",
            "Try using .loc[row_indexer,col_indexer] = value instead\n",
            "\n",
            "See the caveats in the documentation: https://pandas.pydata.org/pandas-docs/stable/user_guide/indexing.html#returning-a-view-versus-a-copy\n",
            "  \n"
          ],
          "name": "stderr"
        },
        {
          "output_type": "execute_result",
          "data": {
            "text/html": [
              "<div>\n",
              "<style scoped>\n",
              "    .dataframe tbody tr th:only-of-type {\n",
              "        vertical-align: middle;\n",
              "    }\n",
              "\n",
              "    .dataframe tbody tr th {\n",
              "        vertical-align: top;\n",
              "    }\n",
              "\n",
              "    .dataframe thead th {\n",
              "        text-align: right;\n",
              "    }\n",
              "</style>\n",
              "<table border=\"1\" class=\"dataframe\">\n",
              "  <thead>\n",
              "    <tr style=\"text-align: right;\">\n",
              "      <th></th>\n",
              "      <th>date</th>\n",
              "      <th>home_team</th>\n",
              "      <th>away_team</th>\n",
              "      <th>home_score</th>\n",
              "      <th>away_score</th>\n",
              "      <th>tournament</th>\n",
              "      <th>country</th>\n",
              "      <th>year</th>\n",
              "    </tr>\n",
              "  </thead>\n",
              "  <tbody>\n",
              "    <tr>\n",
              "      <th>17362</th>\n",
              "      <td>1993-01-02</td>\n",
              "      <td>Gabon</td>\n",
              "      <td>Burkina Faso</td>\n",
              "      <td>1</td>\n",
              "      <td>1</td>\n",
              "      <td>Friendly</td>\n",
              "      <td>Gabon</td>\n",
              "      <td>1993-01</td>\n",
              "    </tr>\n",
              "    <tr>\n",
              "      <th>17363</th>\n",
              "      <td>1993-01-02</td>\n",
              "      <td>Kuwait</td>\n",
              "      <td>Lebanon</td>\n",
              "      <td>2</td>\n",
              "      <td>0</td>\n",
              "      <td>Friendly</td>\n",
              "      <td>Kuwait</td>\n",
              "      <td>1993-01</td>\n",
              "    </tr>\n",
              "    <tr>\n",
              "      <th>17364</th>\n",
              "      <td>1993-01-03</td>\n",
              "      <td>Burkina Faso</td>\n",
              "      <td>Mali</td>\n",
              "      <td>1</td>\n",
              "      <td>0</td>\n",
              "      <td>Friendly</td>\n",
              "      <td>Gabon</td>\n",
              "      <td>1993-01</td>\n",
              "    </tr>\n",
              "    <tr>\n",
              "      <th>17365</th>\n",
              "      <td>1993-01-03</td>\n",
              "      <td>Gabon</td>\n",
              "      <td>Ghana</td>\n",
              "      <td>2</td>\n",
              "      <td>3</td>\n",
              "      <td>Friendly</td>\n",
              "      <td>Gabon</td>\n",
              "      <td>1993-01</td>\n",
              "    </tr>\n",
              "    <tr>\n",
              "      <th>17366</th>\n",
              "      <td>1993-01-08</td>\n",
              "      <td>Uganda</td>\n",
              "      <td>Tanzania</td>\n",
              "      <td>3</td>\n",
              "      <td>1</td>\n",
              "      <td>Friendly</td>\n",
              "      <td>Uganda</td>\n",
              "      <td>1993-01</td>\n",
              "    </tr>\n",
              "  </tbody>\n",
              "</table>\n",
              "</div>"
            ],
            "text/plain": [
              "            date     home_team     away_team  ...  tournament  country     year\n",
              "17362 1993-01-02         Gabon  Burkina Faso  ...    Friendly    Gabon  1993-01\n",
              "17363 1993-01-02        Kuwait       Lebanon  ...    Friendly   Kuwait  1993-01\n",
              "17364 1993-01-03  Burkina Faso          Mali  ...    Friendly    Gabon  1993-01\n",
              "17365 1993-01-03         Gabon         Ghana  ...    Friendly    Gabon  1993-01\n",
              "17366 1993-01-08        Uganda      Tanzania  ...    Friendly   Uganda  1993-01\n",
              "\n",
              "[5 rows x 8 columns]"
            ]
          },
          "metadata": {
            "tags": []
          },
          "execution_count": 26
        }
      ]
    },
    {
      "cell_type": "code",
      "metadata": {
        "id": "k8C0VDId0hS3",
        "outputId": "a52d357e-f7fa-4b10-87bf-cea995ca6650",
        "colab": {
          "base_uri": "https://localhost:8080/",
          "height": 204
        }
      },
      "source": [
        "# Merging the two datasets to obtain the hometeam  dataset \n",
        "home_df = pd.merge(fifa_df, results_df, how = 'inner', left_on = ['year','country'], right_on = ['year','home_team'])\n",
        "home_df.head()"
      ],
      "execution_count": 27,
      "outputs": [
        {
          "output_type": "execute_result",
          "data": {
            "text/html": [
              "<div>\n",
              "<style scoped>\n",
              "    .dataframe tbody tr th:only-of-type {\n",
              "        vertical-align: middle;\n",
              "    }\n",
              "\n",
              "    .dataframe tbody tr th {\n",
              "        vertical-align: top;\n",
              "    }\n",
              "\n",
              "    .dataframe thead th {\n",
              "        text-align: right;\n",
              "    }\n",
              "</style>\n",
              "<table border=\"1\" class=\"dataframe\">\n",
              "  <thead>\n",
              "    <tr style=\"text-align: right;\">\n",
              "      <th></th>\n",
              "      <th>rank</th>\n",
              "      <th>country_x</th>\n",
              "      <th>date_x</th>\n",
              "      <th>year</th>\n",
              "      <th>date_y</th>\n",
              "      <th>home_team</th>\n",
              "      <th>away_team</th>\n",
              "      <th>home_score</th>\n",
              "      <th>away_score</th>\n",
              "      <th>tournament</th>\n",
              "      <th>country_y</th>\n",
              "    </tr>\n",
              "  </thead>\n",
              "  <tbody>\n",
              "    <tr>\n",
              "      <th>0</th>\n",
              "      <td>4</td>\n",
              "      <td>Sweden</td>\n",
              "      <td>1993-08-08</td>\n",
              "      <td>1993-08</td>\n",
              "      <td>1993-08-11</td>\n",
              "      <td>Sweden</td>\n",
              "      <td>Switzerland</td>\n",
              "      <td>1</td>\n",
              "      <td>2</td>\n",
              "      <td>Friendly</td>\n",
              "      <td>Sweden</td>\n",
              "    </tr>\n",
              "    <tr>\n",
              "      <th>1</th>\n",
              "      <td>4</td>\n",
              "      <td>Sweden</td>\n",
              "      <td>1993-08-08</td>\n",
              "      <td>1993-08</td>\n",
              "      <td>1993-08-22</td>\n",
              "      <td>Sweden</td>\n",
              "      <td>France</td>\n",
              "      <td>1</td>\n",
              "      <td>1</td>\n",
              "      <td>FIFA World Cup qualification</td>\n",
              "      <td>Sweden</td>\n",
              "    </tr>\n",
              "    <tr>\n",
              "      <th>2</th>\n",
              "      <td>5</td>\n",
              "      <td>Argentina</td>\n",
              "      <td>1993-08-08</td>\n",
              "      <td>1993-08</td>\n",
              "      <td>1993-08-22</td>\n",
              "      <td>Argentina</td>\n",
              "      <td>Peru</td>\n",
              "      <td>2</td>\n",
              "      <td>1</td>\n",
              "      <td>FIFA World Cup qualification</td>\n",
              "      <td>Argentina</td>\n",
              "    </tr>\n",
              "    <tr>\n",
              "      <th>3</th>\n",
              "      <td>5</td>\n",
              "      <td>Argentina</td>\n",
              "      <td>1993-08-08</td>\n",
              "      <td>1993-08</td>\n",
              "      <td>1993-08-29</td>\n",
              "      <td>Argentina</td>\n",
              "      <td>Paraguay</td>\n",
              "      <td>0</td>\n",
              "      <td>0</td>\n",
              "      <td>FIFA World Cup qualification</td>\n",
              "      <td>Argentina</td>\n",
              "    </tr>\n",
              "    <tr>\n",
              "      <th>4</th>\n",
              "      <td>8</td>\n",
              "      <td>Brazil</td>\n",
              "      <td>1993-08-08</td>\n",
              "      <td>1993-08</td>\n",
              "      <td>1993-08-08</td>\n",
              "      <td>Brazil</td>\n",
              "      <td>Mexico</td>\n",
              "      <td>1</td>\n",
              "      <td>1</td>\n",
              "      <td>Friendly</td>\n",
              "      <td>Brazil</td>\n",
              "    </tr>\n",
              "  </tbody>\n",
              "</table>\n",
              "</div>"
            ],
            "text/plain": [
              "   rank  country_x  ...                    tournament  country_y\n",
              "0     4     Sweden  ...                      Friendly     Sweden\n",
              "1     4     Sweden  ...  FIFA World Cup qualification     Sweden\n",
              "2     5  Argentina  ...  FIFA World Cup qualification  Argentina\n",
              "3     5  Argentina  ...  FIFA World Cup qualification  Argentina\n",
              "4     8     Brazil  ...                      Friendly     Brazil\n",
              "\n",
              "[5 rows x 11 columns]"
            ]
          },
          "metadata": {
            "tags": []
          },
          "execution_count": 27
        }
      ]
    },
    {
      "cell_type": "code",
      "metadata": {
        "id": "ng0LgHqV0hjJ"
      },
      "source": [
        "#from the merge above the country column matches the home team, we will drop the country_y  and rename country_x to country\n",
        "#we will also rename the rank to hometeam rank\n",
        "home_df['rank'] = home_df.rename({'rank': 'home_rank'}, axis = 1, inplace = True)"
      ],
      "execution_count": 28,
      "outputs": []
    },
    {
      "cell_type": "code",
      "metadata": {
        "id": "8tfPA44EURxb"
      },
      "source": [
        "home_df['country_x'] = home_df.rename({'country_x': 'country'}, axis = 1, inplace = True)"
      ],
      "execution_count": 29,
      "outputs": []
    },
    {
      "cell_type": "code",
      "metadata": {
        "id": "f9GsvVzzUSAk"
      },
      "source": [
        "home_df.drop(columns=['country_y'], inplace=True)"
      ],
      "execution_count": 30,
      "outputs": []
    },
    {
      "cell_type": "code",
      "metadata": {
        "id": "5VUdG7N10g3W",
        "outputId": "e8f7c431-8b47-4e25-85fb-e910d67ac580",
        "colab": {
          "base_uri": "https://localhost:8080/",
          "height": 204
        }
      },
      "source": [
        "home_df.head()"
      ],
      "execution_count": 31,
      "outputs": [
        {
          "output_type": "execute_result",
          "data": {
            "text/html": [
              "<div>\n",
              "<style scoped>\n",
              "    .dataframe tbody tr th:only-of-type {\n",
              "        vertical-align: middle;\n",
              "    }\n",
              "\n",
              "    .dataframe tbody tr th {\n",
              "        vertical-align: top;\n",
              "    }\n",
              "\n",
              "    .dataframe thead th {\n",
              "        text-align: right;\n",
              "    }\n",
              "</style>\n",
              "<table border=\"1\" class=\"dataframe\">\n",
              "  <thead>\n",
              "    <tr style=\"text-align: right;\">\n",
              "      <th></th>\n",
              "      <th>home_rank</th>\n",
              "      <th>country</th>\n",
              "      <th>date_x</th>\n",
              "      <th>year</th>\n",
              "      <th>date_y</th>\n",
              "      <th>home_team</th>\n",
              "      <th>away_team</th>\n",
              "      <th>home_score</th>\n",
              "      <th>away_score</th>\n",
              "      <th>tournament</th>\n",
              "      <th>rank</th>\n",
              "      <th>country_x</th>\n",
              "    </tr>\n",
              "  </thead>\n",
              "  <tbody>\n",
              "    <tr>\n",
              "      <th>0</th>\n",
              "      <td>4</td>\n",
              "      <td>Sweden</td>\n",
              "      <td>1993-08-08</td>\n",
              "      <td>1993-08</td>\n",
              "      <td>1993-08-11</td>\n",
              "      <td>Sweden</td>\n",
              "      <td>Switzerland</td>\n",
              "      <td>1</td>\n",
              "      <td>2</td>\n",
              "      <td>Friendly</td>\n",
              "      <td>None</td>\n",
              "      <td>None</td>\n",
              "    </tr>\n",
              "    <tr>\n",
              "      <th>1</th>\n",
              "      <td>4</td>\n",
              "      <td>Sweden</td>\n",
              "      <td>1993-08-08</td>\n",
              "      <td>1993-08</td>\n",
              "      <td>1993-08-22</td>\n",
              "      <td>Sweden</td>\n",
              "      <td>France</td>\n",
              "      <td>1</td>\n",
              "      <td>1</td>\n",
              "      <td>FIFA World Cup qualification</td>\n",
              "      <td>None</td>\n",
              "      <td>None</td>\n",
              "    </tr>\n",
              "    <tr>\n",
              "      <th>2</th>\n",
              "      <td>5</td>\n",
              "      <td>Argentina</td>\n",
              "      <td>1993-08-08</td>\n",
              "      <td>1993-08</td>\n",
              "      <td>1993-08-22</td>\n",
              "      <td>Argentina</td>\n",
              "      <td>Peru</td>\n",
              "      <td>2</td>\n",
              "      <td>1</td>\n",
              "      <td>FIFA World Cup qualification</td>\n",
              "      <td>None</td>\n",
              "      <td>None</td>\n",
              "    </tr>\n",
              "    <tr>\n",
              "      <th>3</th>\n",
              "      <td>5</td>\n",
              "      <td>Argentina</td>\n",
              "      <td>1993-08-08</td>\n",
              "      <td>1993-08</td>\n",
              "      <td>1993-08-29</td>\n",
              "      <td>Argentina</td>\n",
              "      <td>Paraguay</td>\n",
              "      <td>0</td>\n",
              "      <td>0</td>\n",
              "      <td>FIFA World Cup qualification</td>\n",
              "      <td>None</td>\n",
              "      <td>None</td>\n",
              "    </tr>\n",
              "    <tr>\n",
              "      <th>4</th>\n",
              "      <td>8</td>\n",
              "      <td>Brazil</td>\n",
              "      <td>1993-08-08</td>\n",
              "      <td>1993-08</td>\n",
              "      <td>1993-08-08</td>\n",
              "      <td>Brazil</td>\n",
              "      <td>Mexico</td>\n",
              "      <td>1</td>\n",
              "      <td>1</td>\n",
              "      <td>Friendly</td>\n",
              "      <td>None</td>\n",
              "      <td>None</td>\n",
              "    </tr>\n",
              "  </tbody>\n",
              "</table>\n",
              "</div>"
            ],
            "text/plain": [
              "   home_rank    country  ...  rank country_x\n",
              "0          4     Sweden  ...  None      None\n",
              "1          4     Sweden  ...  None      None\n",
              "2          5  Argentina  ...  None      None\n",
              "3          5  Argentina  ...  None      None\n",
              "4          8     Brazil  ...  None      None\n",
              "\n",
              "[5 rows x 12 columns]"
            ]
          },
          "metadata": {
            "tags": []
          },
          "execution_count": 31
        }
      ]
    },
    {
      "cell_type": "code",
      "metadata": {
        "id": "ThwkifGNy591",
        "outputId": "4cbeb2a4-8a2a-476d-fbb9-e2895c381754",
        "colab": {
          "base_uri": "https://localhost:8080/",
          "height": 204
        }
      },
      "source": [
        "#picking out the columns we need from thr hometeam df\n",
        "home_df= home_df[['home_rank', 'year', 'home_team', 'away_team', 'home_score', 'away_score']]\n",
        "home_df.head()"
      ],
      "execution_count": 32,
      "outputs": [
        {
          "output_type": "execute_result",
          "data": {
            "text/html": [
              "<div>\n",
              "<style scoped>\n",
              "    .dataframe tbody tr th:only-of-type {\n",
              "        vertical-align: middle;\n",
              "    }\n",
              "\n",
              "    .dataframe tbody tr th {\n",
              "        vertical-align: top;\n",
              "    }\n",
              "\n",
              "    .dataframe thead th {\n",
              "        text-align: right;\n",
              "    }\n",
              "</style>\n",
              "<table border=\"1\" class=\"dataframe\">\n",
              "  <thead>\n",
              "    <tr style=\"text-align: right;\">\n",
              "      <th></th>\n",
              "      <th>home_rank</th>\n",
              "      <th>year</th>\n",
              "      <th>home_team</th>\n",
              "      <th>away_team</th>\n",
              "      <th>home_score</th>\n",
              "      <th>away_score</th>\n",
              "    </tr>\n",
              "  </thead>\n",
              "  <tbody>\n",
              "    <tr>\n",
              "      <th>0</th>\n",
              "      <td>4</td>\n",
              "      <td>1993-08</td>\n",
              "      <td>Sweden</td>\n",
              "      <td>Switzerland</td>\n",
              "      <td>1</td>\n",
              "      <td>2</td>\n",
              "    </tr>\n",
              "    <tr>\n",
              "      <th>1</th>\n",
              "      <td>4</td>\n",
              "      <td>1993-08</td>\n",
              "      <td>Sweden</td>\n",
              "      <td>France</td>\n",
              "      <td>1</td>\n",
              "      <td>1</td>\n",
              "    </tr>\n",
              "    <tr>\n",
              "      <th>2</th>\n",
              "      <td>5</td>\n",
              "      <td>1993-08</td>\n",
              "      <td>Argentina</td>\n",
              "      <td>Peru</td>\n",
              "      <td>2</td>\n",
              "      <td>1</td>\n",
              "    </tr>\n",
              "    <tr>\n",
              "      <th>3</th>\n",
              "      <td>5</td>\n",
              "      <td>1993-08</td>\n",
              "      <td>Argentina</td>\n",
              "      <td>Paraguay</td>\n",
              "      <td>0</td>\n",
              "      <td>0</td>\n",
              "    </tr>\n",
              "    <tr>\n",
              "      <th>4</th>\n",
              "      <td>8</td>\n",
              "      <td>1993-08</td>\n",
              "      <td>Brazil</td>\n",
              "      <td>Mexico</td>\n",
              "      <td>1</td>\n",
              "      <td>1</td>\n",
              "    </tr>\n",
              "  </tbody>\n",
              "</table>\n",
              "</div>"
            ],
            "text/plain": [
              "   home_rank     year  home_team    away_team  home_score  away_score\n",
              "0          4  1993-08     Sweden  Switzerland           1           2\n",
              "1          4  1993-08     Sweden       France           1           1\n",
              "2          5  1993-08  Argentina         Peru           2           1\n",
              "3          5  1993-08  Argentina     Paraguay           0           0\n",
              "4          8  1993-08     Brazil       Mexico           1           1"
            ]
          },
          "metadata": {
            "tags": []
          },
          "execution_count": 32
        }
      ]
    },
    {
      "cell_type": "code",
      "metadata": {
        "id": "GsGm8MaklaUp",
        "outputId": "eef68ed8-db23-4070-b7f3-dc90e80c2758",
        "colab": {
          "base_uri": "https://localhost:8080/",
          "height": 204
        }
      },
      "source": [
        "# Merging the two datasets to obtain the awayteam  dataset \n",
        "away_df = pd.merge(fifa_df, results_df, how = 'inner', left_on = ['year','country'], right_on = ['year','away_team'])\n",
        "away_df.head()"
      ],
      "execution_count": 33,
      "outputs": [
        {
          "output_type": "execute_result",
          "data": {
            "text/html": [
              "<div>\n",
              "<style scoped>\n",
              "    .dataframe tbody tr th:only-of-type {\n",
              "        vertical-align: middle;\n",
              "    }\n",
              "\n",
              "    .dataframe tbody tr th {\n",
              "        vertical-align: top;\n",
              "    }\n",
              "\n",
              "    .dataframe thead th {\n",
              "        text-align: right;\n",
              "    }\n",
              "</style>\n",
              "<table border=\"1\" class=\"dataframe\">\n",
              "  <thead>\n",
              "    <tr style=\"text-align: right;\">\n",
              "      <th></th>\n",
              "      <th>rank</th>\n",
              "      <th>country_x</th>\n",
              "      <th>date_x</th>\n",
              "      <th>year</th>\n",
              "      <th>date_y</th>\n",
              "      <th>home_team</th>\n",
              "      <th>away_team</th>\n",
              "      <th>home_score</th>\n",
              "      <th>away_score</th>\n",
              "      <th>tournament</th>\n",
              "      <th>country_y</th>\n",
              "    </tr>\n",
              "  </thead>\n",
              "  <tbody>\n",
              "    <tr>\n",
              "      <th>0</th>\n",
              "      <td>3</td>\n",
              "      <td>Switzerland</td>\n",
              "      <td>1993-08-08</td>\n",
              "      <td>1993-08</td>\n",
              "      <td>1993-08-11</td>\n",
              "      <td>Sweden</td>\n",
              "      <td>Switzerland</td>\n",
              "      <td>1</td>\n",
              "      <td>2</td>\n",
              "      <td>Friendly</td>\n",
              "      <td>Sweden</td>\n",
              "    </tr>\n",
              "    <tr>\n",
              "      <th>1</th>\n",
              "      <td>5</td>\n",
              "      <td>Argentina</td>\n",
              "      <td>1993-08-08</td>\n",
              "      <td>1993-08</td>\n",
              "      <td>1993-08-01</td>\n",
              "      <td>Peru</td>\n",
              "      <td>Argentina</td>\n",
              "      <td>0</td>\n",
              "      <td>1</td>\n",
              "      <td>FIFA World Cup qualification</td>\n",
              "      <td>Peru</td>\n",
              "    </tr>\n",
              "    <tr>\n",
              "      <th>2</th>\n",
              "      <td>5</td>\n",
              "      <td>Argentina</td>\n",
              "      <td>1993-08-08</td>\n",
              "      <td>1993-08</td>\n",
              "      <td>1993-08-08</td>\n",
              "      <td>Paraguay</td>\n",
              "      <td>Argentina</td>\n",
              "      <td>1</td>\n",
              "      <td>3</td>\n",
              "      <td>FIFA World Cup qualification</td>\n",
              "      <td>Paraguay</td>\n",
              "    </tr>\n",
              "    <tr>\n",
              "      <th>3</th>\n",
              "      <td>5</td>\n",
              "      <td>Argentina</td>\n",
              "      <td>1993-08-08</td>\n",
              "      <td>1993-08</td>\n",
              "      <td>1993-08-15</td>\n",
              "      <td>Colombia</td>\n",
              "      <td>Argentina</td>\n",
              "      <td>2</td>\n",
              "      <td>1</td>\n",
              "      <td>FIFA World Cup qualification</td>\n",
              "      <td>Colombia</td>\n",
              "    </tr>\n",
              "    <tr>\n",
              "      <th>4</th>\n",
              "      <td>8</td>\n",
              "      <td>Brazil</td>\n",
              "      <td>1993-08-08</td>\n",
              "      <td>1993-08</td>\n",
              "      <td>1993-08-01</td>\n",
              "      <td>Venezuela</td>\n",
              "      <td>Brazil</td>\n",
              "      <td>1</td>\n",
              "      <td>5</td>\n",
              "      <td>FIFA World Cup qualification</td>\n",
              "      <td>Venezuela</td>\n",
              "    </tr>\n",
              "  </tbody>\n",
              "</table>\n",
              "</div>"
            ],
            "text/plain": [
              "   rank    country_x  ...                    tournament  country_y\n",
              "0     3  Switzerland  ...                      Friendly     Sweden\n",
              "1     5    Argentina  ...  FIFA World Cup qualification       Peru\n",
              "2     5    Argentina  ...  FIFA World Cup qualification   Paraguay\n",
              "3     5    Argentina  ...  FIFA World Cup qualification   Colombia\n",
              "4     8       Brazil  ...  FIFA World Cup qualification  Venezuela\n",
              "\n",
              "[5 rows x 11 columns]"
            ]
          },
          "metadata": {
            "tags": []
          },
          "execution_count": 33
        }
      ]
    },
    {
      "cell_type": "code",
      "metadata": {
        "id": "4WFTM11xlaNI"
      },
      "source": [
        "#from the merge above the country column matches the away team, we will drop the country_y  and rename country_x to country\n",
        "#we will also rename the rank to awayteam rank\n",
        "away_df['rank'] = away_df.rename({'rank': 'away_rank'}, axis = 1, inplace = True)"
      ],
      "execution_count": 34,
      "outputs": []
    },
    {
      "cell_type": "code",
      "metadata": {
        "id": "pf8IFBY3MTaV"
      },
      "source": [
        "away_df['country_x'] = away_df.rename({'country_x': 'country'}, axis = 1, inplace = True)"
      ],
      "execution_count": 35,
      "outputs": []
    },
    {
      "cell_type": "code",
      "metadata": {
        "id": "Rvlr_VJ9JwS4"
      },
      "source": [
        "away_df.drop(columns=['country_y'], inplace=True)"
      ],
      "execution_count": 36,
      "outputs": []
    },
    {
      "cell_type": "code",
      "metadata": {
        "id": "JwKLnC_sXght",
        "outputId": "1b23ae0c-337b-4b42-b27c-378b4993aeab",
        "colab": {
          "base_uri": "https://localhost:8080/",
          "height": 204
        }
      },
      "source": [
        "away_df.head()"
      ],
      "execution_count": 37,
      "outputs": [
        {
          "output_type": "execute_result",
          "data": {
            "text/html": [
              "<div>\n",
              "<style scoped>\n",
              "    .dataframe tbody tr th:only-of-type {\n",
              "        vertical-align: middle;\n",
              "    }\n",
              "\n",
              "    .dataframe tbody tr th {\n",
              "        vertical-align: top;\n",
              "    }\n",
              "\n",
              "    .dataframe thead th {\n",
              "        text-align: right;\n",
              "    }\n",
              "</style>\n",
              "<table border=\"1\" class=\"dataframe\">\n",
              "  <thead>\n",
              "    <tr style=\"text-align: right;\">\n",
              "      <th></th>\n",
              "      <th>away_rank</th>\n",
              "      <th>country</th>\n",
              "      <th>date_x</th>\n",
              "      <th>year</th>\n",
              "      <th>date_y</th>\n",
              "      <th>home_team</th>\n",
              "      <th>away_team</th>\n",
              "      <th>home_score</th>\n",
              "      <th>away_score</th>\n",
              "      <th>tournament</th>\n",
              "      <th>rank</th>\n",
              "      <th>country_x</th>\n",
              "    </tr>\n",
              "  </thead>\n",
              "  <tbody>\n",
              "    <tr>\n",
              "      <th>0</th>\n",
              "      <td>3</td>\n",
              "      <td>Switzerland</td>\n",
              "      <td>1993-08-08</td>\n",
              "      <td>1993-08</td>\n",
              "      <td>1993-08-11</td>\n",
              "      <td>Sweden</td>\n",
              "      <td>Switzerland</td>\n",
              "      <td>1</td>\n",
              "      <td>2</td>\n",
              "      <td>Friendly</td>\n",
              "      <td>None</td>\n",
              "      <td>None</td>\n",
              "    </tr>\n",
              "    <tr>\n",
              "      <th>1</th>\n",
              "      <td>5</td>\n",
              "      <td>Argentina</td>\n",
              "      <td>1993-08-08</td>\n",
              "      <td>1993-08</td>\n",
              "      <td>1993-08-01</td>\n",
              "      <td>Peru</td>\n",
              "      <td>Argentina</td>\n",
              "      <td>0</td>\n",
              "      <td>1</td>\n",
              "      <td>FIFA World Cup qualification</td>\n",
              "      <td>None</td>\n",
              "      <td>None</td>\n",
              "    </tr>\n",
              "    <tr>\n",
              "      <th>2</th>\n",
              "      <td>5</td>\n",
              "      <td>Argentina</td>\n",
              "      <td>1993-08-08</td>\n",
              "      <td>1993-08</td>\n",
              "      <td>1993-08-08</td>\n",
              "      <td>Paraguay</td>\n",
              "      <td>Argentina</td>\n",
              "      <td>1</td>\n",
              "      <td>3</td>\n",
              "      <td>FIFA World Cup qualification</td>\n",
              "      <td>None</td>\n",
              "      <td>None</td>\n",
              "    </tr>\n",
              "    <tr>\n",
              "      <th>3</th>\n",
              "      <td>5</td>\n",
              "      <td>Argentina</td>\n",
              "      <td>1993-08-08</td>\n",
              "      <td>1993-08</td>\n",
              "      <td>1993-08-15</td>\n",
              "      <td>Colombia</td>\n",
              "      <td>Argentina</td>\n",
              "      <td>2</td>\n",
              "      <td>1</td>\n",
              "      <td>FIFA World Cup qualification</td>\n",
              "      <td>None</td>\n",
              "      <td>None</td>\n",
              "    </tr>\n",
              "    <tr>\n",
              "      <th>4</th>\n",
              "      <td>8</td>\n",
              "      <td>Brazil</td>\n",
              "      <td>1993-08-08</td>\n",
              "      <td>1993-08</td>\n",
              "      <td>1993-08-01</td>\n",
              "      <td>Venezuela</td>\n",
              "      <td>Brazil</td>\n",
              "      <td>1</td>\n",
              "      <td>5</td>\n",
              "      <td>FIFA World Cup qualification</td>\n",
              "      <td>None</td>\n",
              "      <td>None</td>\n",
              "    </tr>\n",
              "  </tbody>\n",
              "</table>\n",
              "</div>"
            ],
            "text/plain": [
              "   away_rank      country  ...  rank country_x\n",
              "0          3  Switzerland  ...  None      None\n",
              "1          5    Argentina  ...  None      None\n",
              "2          5    Argentina  ...  None      None\n",
              "3          5    Argentina  ...  None      None\n",
              "4          8       Brazil  ...  None      None\n",
              "\n",
              "[5 rows x 12 columns]"
            ]
          },
          "metadata": {
            "tags": []
          },
          "execution_count": 37
        }
      ]
    },
    {
      "cell_type": "code",
      "metadata": {
        "id": "TPlKQijCXgsj",
        "outputId": "19bd8f1e-cd3a-4737-bb61-e72b5d3df4c0",
        "colab": {
          "base_uri": "https://localhost:8080/",
          "height": 204
        }
      },
      "source": [
        "#picking out the columns we need from thr awayteam df\n",
        "away_df= away_df[['away_rank', 'year', 'away_team', 'home_team', 'away_score', 'tournament', 'home_score']]\n",
        "away_df.head()"
      ],
      "execution_count": 38,
      "outputs": [
        {
          "output_type": "execute_result",
          "data": {
            "text/html": [
              "<div>\n",
              "<style scoped>\n",
              "    .dataframe tbody tr th:only-of-type {\n",
              "        vertical-align: middle;\n",
              "    }\n",
              "\n",
              "    .dataframe tbody tr th {\n",
              "        vertical-align: top;\n",
              "    }\n",
              "\n",
              "    .dataframe thead th {\n",
              "        text-align: right;\n",
              "    }\n",
              "</style>\n",
              "<table border=\"1\" class=\"dataframe\">\n",
              "  <thead>\n",
              "    <tr style=\"text-align: right;\">\n",
              "      <th></th>\n",
              "      <th>away_rank</th>\n",
              "      <th>year</th>\n",
              "      <th>away_team</th>\n",
              "      <th>home_team</th>\n",
              "      <th>away_score</th>\n",
              "      <th>tournament</th>\n",
              "      <th>home_score</th>\n",
              "    </tr>\n",
              "  </thead>\n",
              "  <tbody>\n",
              "    <tr>\n",
              "      <th>0</th>\n",
              "      <td>3</td>\n",
              "      <td>1993-08</td>\n",
              "      <td>Switzerland</td>\n",
              "      <td>Sweden</td>\n",
              "      <td>2</td>\n",
              "      <td>Friendly</td>\n",
              "      <td>1</td>\n",
              "    </tr>\n",
              "    <tr>\n",
              "      <th>1</th>\n",
              "      <td>5</td>\n",
              "      <td>1993-08</td>\n",
              "      <td>Argentina</td>\n",
              "      <td>Peru</td>\n",
              "      <td>1</td>\n",
              "      <td>FIFA World Cup qualification</td>\n",
              "      <td>0</td>\n",
              "    </tr>\n",
              "    <tr>\n",
              "      <th>2</th>\n",
              "      <td>5</td>\n",
              "      <td>1993-08</td>\n",
              "      <td>Argentina</td>\n",
              "      <td>Paraguay</td>\n",
              "      <td>3</td>\n",
              "      <td>FIFA World Cup qualification</td>\n",
              "      <td>1</td>\n",
              "    </tr>\n",
              "    <tr>\n",
              "      <th>3</th>\n",
              "      <td>5</td>\n",
              "      <td>1993-08</td>\n",
              "      <td>Argentina</td>\n",
              "      <td>Colombia</td>\n",
              "      <td>1</td>\n",
              "      <td>FIFA World Cup qualification</td>\n",
              "      <td>2</td>\n",
              "    </tr>\n",
              "    <tr>\n",
              "      <th>4</th>\n",
              "      <td>8</td>\n",
              "      <td>1993-08</td>\n",
              "      <td>Brazil</td>\n",
              "      <td>Venezuela</td>\n",
              "      <td>5</td>\n",
              "      <td>FIFA World Cup qualification</td>\n",
              "      <td>1</td>\n",
              "    </tr>\n",
              "  </tbody>\n",
              "</table>\n",
              "</div>"
            ],
            "text/plain": [
              "   away_rank     year  ...                    tournament home_score\n",
              "0          3  1993-08  ...                      Friendly          1\n",
              "1          5  1993-08  ...  FIFA World Cup qualification          0\n",
              "2          5  1993-08  ...  FIFA World Cup qualification          1\n",
              "3          5  1993-08  ...  FIFA World Cup qualification          2\n",
              "4          8  1993-08  ...  FIFA World Cup qualification          1\n",
              "\n",
              "[5 rows x 7 columns]"
            ]
          },
          "metadata": {
            "tags": []
          },
          "execution_count": 38
        }
      ]
    },
    {
      "cell_type": "code",
      "metadata": {
        "id": "c3euWG08bEs8",
        "outputId": "3425be3c-b1ef-439e-e263-ac46f3dd84d9",
        "colab": {
          "base_uri": "https://localhost:8080/",
          "height": 34
        }
      },
      "source": [
        "away_df.shape"
      ],
      "execution_count": 39,
      "outputs": [
        {
          "output_type": "execute_result",
          "data": {
            "text/plain": [
              "(18502, 7)"
            ]
          },
          "metadata": {
            "tags": []
          },
          "execution_count": 39
        }
      ]
    },
    {
      "cell_type": "code",
      "metadata": {
        "id": "sSK9I6OEoEw8",
        "outputId": "7f03757f-f439-465e-a6aa-9cae48dc5125",
        "colab": {
          "base_uri": "https://localhost:8080/",
          "height": 34
        }
      },
      "source": [
        "home_df.shape"
      ],
      "execution_count": 40,
      "outputs": [
        {
          "output_type": "execute_result",
          "data": {
            "text/plain": [
              "(18593, 6)"
            ]
          },
          "metadata": {
            "tags": []
          },
          "execution_count": 40
        }
      ]
    },
    {
      "cell_type": "code",
      "metadata": {
        "id": "aTZthDUUkQ1b",
        "outputId": "fa4b87fc-7a69-47fe-d821-8edf8fcc2839",
        "colab": {
          "base_uri": "https://localhost:8080/",
          "height": 204
        }
      },
      "source": [
        "#now merging the hometeam and awayteams dataset\n",
        "df = pd.merge(home_df, away_df)\n",
        "df.head()"
      ],
      "execution_count": 41,
      "outputs": [
        {
          "output_type": "execute_result",
          "data": {
            "text/html": [
              "<div>\n",
              "<style scoped>\n",
              "    .dataframe tbody tr th:only-of-type {\n",
              "        vertical-align: middle;\n",
              "    }\n",
              "\n",
              "    .dataframe tbody tr th {\n",
              "        vertical-align: top;\n",
              "    }\n",
              "\n",
              "    .dataframe thead th {\n",
              "        text-align: right;\n",
              "    }\n",
              "</style>\n",
              "<table border=\"1\" class=\"dataframe\">\n",
              "  <thead>\n",
              "    <tr style=\"text-align: right;\">\n",
              "      <th></th>\n",
              "      <th>home_rank</th>\n",
              "      <th>year</th>\n",
              "      <th>home_team</th>\n",
              "      <th>away_team</th>\n",
              "      <th>home_score</th>\n",
              "      <th>away_score</th>\n",
              "      <th>away_rank</th>\n",
              "      <th>tournament</th>\n",
              "    </tr>\n",
              "  </thead>\n",
              "  <tbody>\n",
              "    <tr>\n",
              "      <th>0</th>\n",
              "      <td>4</td>\n",
              "      <td>1993-08</td>\n",
              "      <td>Sweden</td>\n",
              "      <td>Switzerland</td>\n",
              "      <td>1</td>\n",
              "      <td>2</td>\n",
              "      <td>3</td>\n",
              "      <td>Friendly</td>\n",
              "    </tr>\n",
              "    <tr>\n",
              "      <th>1</th>\n",
              "      <td>4</td>\n",
              "      <td>1993-08</td>\n",
              "      <td>Sweden</td>\n",
              "      <td>France</td>\n",
              "      <td>1</td>\n",
              "      <td>1</td>\n",
              "      <td>12</td>\n",
              "      <td>FIFA World Cup qualification</td>\n",
              "    </tr>\n",
              "    <tr>\n",
              "      <th>2</th>\n",
              "      <td>5</td>\n",
              "      <td>1993-08</td>\n",
              "      <td>Argentina</td>\n",
              "      <td>Peru</td>\n",
              "      <td>2</td>\n",
              "      <td>1</td>\n",
              "      <td>70</td>\n",
              "      <td>FIFA World Cup qualification</td>\n",
              "    </tr>\n",
              "    <tr>\n",
              "      <th>3</th>\n",
              "      <td>5</td>\n",
              "      <td>1993-08</td>\n",
              "      <td>Argentina</td>\n",
              "      <td>Paraguay</td>\n",
              "      <td>0</td>\n",
              "      <td>0</td>\n",
              "      <td>67</td>\n",
              "      <td>FIFA World Cup qualification</td>\n",
              "    </tr>\n",
              "    <tr>\n",
              "      <th>4</th>\n",
              "      <td>8</td>\n",
              "      <td>1993-08</td>\n",
              "      <td>Brazil</td>\n",
              "      <td>Mexico</td>\n",
              "      <td>1</td>\n",
              "      <td>1</td>\n",
              "      <td>14</td>\n",
              "      <td>Friendly</td>\n",
              "    </tr>\n",
              "  </tbody>\n",
              "</table>\n",
              "</div>"
            ],
            "text/plain": [
              "   home_rank     year  ... away_rank                    tournament\n",
              "0          4  1993-08  ...         3                      Friendly\n",
              "1          4  1993-08  ...        12  FIFA World Cup qualification\n",
              "2          5  1993-08  ...        70  FIFA World Cup qualification\n",
              "3          5  1993-08  ...        67  FIFA World Cup qualification\n",
              "4          8  1993-08  ...        14                      Friendly\n",
              "\n",
              "[5 rows x 8 columns]"
            ]
          },
          "metadata": {
            "tags": []
          },
          "execution_count": 41
        }
      ]
    },
    {
      "cell_type": "code",
      "metadata": {
        "id": "P2ydBfBueABE",
        "outputId": "72dee16e-b4d0-4080-9821-64ed41dad3e8",
        "colab": {
          "base_uri": "https://localhost:8080/",
          "height": 170
        }
      },
      "source": [
        "df.dtypes"
      ],
      "execution_count": 42,
      "outputs": [
        {
          "output_type": "execute_result",
          "data": {
            "text/plain": [
              "home_rank         int64\n",
              "year          period[M]\n",
              "home_team        object\n",
              "away_team        object\n",
              "home_score        int64\n",
              "away_score        int64\n",
              "away_rank         int64\n",
              "tournament       object\n",
              "dtype: object"
            ]
          },
          "metadata": {
            "tags": []
          },
          "execution_count": 42
        }
      ]
    },
    {
      "cell_type": "code",
      "metadata": {
        "id": "A-Cg25pgk4MA",
        "outputId": "831516ad-264f-4adc-b3e3-019f13616fe4",
        "colab": {
          "base_uri": "https://localhost:8080/",
          "height": 204
        }
      },
      "source": [
        "df['status'] = df.home_score - df.away_score\n",
        "def status(x):\n",
        "    if x > 0:\n",
        "        return 'Win'\n",
        "    elif x < 0:\n",
        "        return 'Loss'\n",
        "    else:\n",
        "        return 'Draw'\n",
        "      \n",
        "df['status'] = df.status.apply(lambda y: status(y))\n",
        "df.tail()\n",
        "\n",
        "#we created a new column for trhe status of the hometeam ,was it a win ,loss or draw?\n",
        "#it is the difference btetween home scores and away scores"
      ],
      "execution_count": 43,
      "outputs": [
        {
          "output_type": "execute_result",
          "data": {
            "text/html": [
              "<div>\n",
              "<style scoped>\n",
              "    .dataframe tbody tr th:only-of-type {\n",
              "        vertical-align: middle;\n",
              "    }\n",
              "\n",
              "    .dataframe tbody tr th {\n",
              "        vertical-align: top;\n",
              "    }\n",
              "\n",
              "    .dataframe thead th {\n",
              "        text-align: right;\n",
              "    }\n",
              "</style>\n",
              "<table border=\"1\" class=\"dataframe\">\n",
              "  <thead>\n",
              "    <tr style=\"text-align: right;\">\n",
              "      <th></th>\n",
              "      <th>home_rank</th>\n",
              "      <th>year</th>\n",
              "      <th>home_team</th>\n",
              "      <th>away_team</th>\n",
              "      <th>home_score</th>\n",
              "      <th>away_score</th>\n",
              "      <th>away_rank</th>\n",
              "      <th>tournament</th>\n",
              "      <th>status</th>\n",
              "    </tr>\n",
              "  </thead>\n",
              "  <tbody>\n",
              "    <tr>\n",
              "      <th>16989</th>\n",
              "      <td>137</td>\n",
              "      <td>2018-06</td>\n",
              "      <td>Angola</td>\n",
              "      <td>Malawi</td>\n",
              "      <td>0</td>\n",
              "      <td>0</td>\n",
              "      <td>123</td>\n",
              "      <td>COSAFA Cup</td>\n",
              "      <td>Draw</td>\n",
              "    </tr>\n",
              "    <tr>\n",
              "      <th>16990</th>\n",
              "      <td>139</td>\n",
              "      <td>2018-06</td>\n",
              "      <td>Botswana</td>\n",
              "      <td>Mauritius</td>\n",
              "      <td>6</td>\n",
              "      <td>0</td>\n",
              "      <td>155</td>\n",
              "      <td>COSAFA Cup</td>\n",
              "      <td>Win</td>\n",
              "    </tr>\n",
              "    <tr>\n",
              "      <th>16991</th>\n",
              "      <td>147</td>\n",
              "      <td>2018-06</td>\n",
              "      <td>Lesotho</td>\n",
              "      <td>Zimbabwe</td>\n",
              "      <td>0</td>\n",
              "      <td>0</td>\n",
              "      <td>118</td>\n",
              "      <td>COSAFA Cup</td>\n",
              "      <td>Draw</td>\n",
              "    </tr>\n",
              "    <tr>\n",
              "      <th>16992</th>\n",
              "      <td>160</td>\n",
              "      <td>2018-06</td>\n",
              "      <td>Barbados</td>\n",
              "      <td>Belize</td>\n",
              "      <td>0</td>\n",
              "      <td>0</td>\n",
              "      <td>163</td>\n",
              "      <td>Friendly</td>\n",
              "      <td>Draw</td>\n",
              "    </tr>\n",
              "    <tr>\n",
              "      <th>16993</th>\n",
              "      <td>184</td>\n",
              "      <td>2018-06</td>\n",
              "      <td>Malta</td>\n",
              "      <td>Georgia</td>\n",
              "      <td>0</td>\n",
              "      <td>1</td>\n",
              "      <td>96</td>\n",
              "      <td>Friendly</td>\n",
              "      <td>Loss</td>\n",
              "    </tr>\n",
              "  </tbody>\n",
              "</table>\n",
              "</div>"
            ],
            "text/plain": [
              "       home_rank     year home_team  ... away_rank  tournament  status\n",
              "16989        137  2018-06    Angola  ...       123  COSAFA Cup    Draw\n",
              "16990        139  2018-06  Botswana  ...       155  COSAFA Cup     Win\n",
              "16991        147  2018-06   Lesotho  ...       118  COSAFA Cup    Draw\n",
              "16992        160  2018-06  Barbados  ...       163    Friendly    Draw\n",
              "16993        184  2018-06     Malta  ...        96    Friendly    Loss\n",
              "\n",
              "[5 rows x 9 columns]"
            ]
          },
          "metadata": {
            "tags": []
          },
          "execution_count": 43
        }
      ]
    },
    {
      "cell_type": "code",
      "metadata": {
        "id": "7HLuaBuKHDG1"
      },
      "source": [
        "#df['tournament'].value_counts()\n",
        "# we will specify the Tournament type (World cup, Friendly, Other)\n",
        "def tournament(class_type):\n",
        "    if class_type == 'Friendly':\n",
        "        return 'Friendly'\n",
        "    elif class_type == 'FIFA World Cup':\n",
        "        return 'World cup'\n",
        "    else:\n",
        "        return 'Other'\n",
        "df['tournament'] = df.tournament.apply(lambda x: tournament(x))"
      ],
      "execution_count": 44,
      "outputs": []
    },
    {
      "cell_type": "code",
      "metadata": {
        "id": "72sgyhGWIOKm",
        "outputId": "a64ccdd2-e496-4976-f6d8-fa149ddb0a53",
        "colab": {
          "base_uri": "https://localhost:8080/",
          "height": 85
        }
      },
      "source": [
        "df['tournament'].value_counts()"
      ],
      "execution_count": 45,
      "outputs": [
        {
          "output_type": "execute_result",
          "data": {
            "text/plain": [
              "Other        10335\n",
              "Friendly      6496\n",
              "World cup      163\n",
              "Name: tournament, dtype: int64"
            ]
          },
          "metadata": {
            "tags": []
          },
          "execution_count": 45
        }
      ]
    },
    {
      "cell_type": "code",
      "metadata": {
        "id": "8OI5fIsbZjqz",
        "outputId": "4574ea45-4407-401e-9f9a-7c68d0a3835c",
        "colab": {
          "base_uri": "https://localhost:8080/",
          "height": 187
        }
      },
      "source": [
        "#more cleaning procedures after merging\n",
        "df.isnull().sum()"
      ],
      "execution_count": 46,
      "outputs": [
        {
          "output_type": "execute_result",
          "data": {
            "text/plain": [
              "home_rank     0\n",
              "year          0\n",
              "home_team     0\n",
              "away_team     0\n",
              "home_score    0\n",
              "away_score    0\n",
              "away_rank     0\n",
              "tournament    0\n",
              "status        0\n",
              "dtype: int64"
            ]
          },
          "metadata": {
            "tags": []
          },
          "execution_count": 46
        }
      ]
    },
    {
      "cell_type": "code",
      "metadata": {
        "id": "Mw1yt1t4Zt8-",
        "outputId": "dd8b03aa-7f8b-4689-8abc-e80a8204b0a3",
        "colab": {
          "base_uri": "https://localhost:8080/",
          "height": 34
        }
      },
      "source": [
        "#checking for duplicates\n",
        "print(df.duplicated().sum())\n",
        "\n",
        "#the duplicates are very many after merging and cant be ignored"
      ],
      "execution_count": 47,
      "outputs": [
        {
          "output_type": "stream",
          "text": [
            "132\n"
          ],
          "name": "stdout"
        }
      ]
    },
    {
      "cell_type": "code",
      "metadata": {
        "id": "rvge3VB9aNVf"
      },
      "source": [
        "#Drop the duplicates \n",
        "\n",
        "df.drop_duplicates(inplace = True)"
      ],
      "execution_count": 48,
      "outputs": []
    },
    {
      "cell_type": "code",
      "metadata": {
        "id": "AY4xtGoDaJaY",
        "outputId": "a1ac3b6d-fd95-47a5-bd9a-479ba023adae",
        "colab": {
          "base_uri": "https://localhost:8080/",
          "height": 34
        }
      },
      "source": [
        "#checking the shape of our new dataset\n",
        "df.shape"
      ],
      "execution_count": 49,
      "outputs": [
        {
          "output_type": "execute_result",
          "data": {
            "text/plain": [
              "(16862, 9)"
            ]
          },
          "metadata": {
            "tags": []
          },
          "execution_count": 49
        }
      ]
    },
    {
      "cell_type": "code",
      "metadata": {
        "id": "UkZ_BKORai1T",
        "outputId": "d5af11c5-4aef-44bf-ee8a-0f6506c84e10",
        "colab": {
          "base_uri": "https://localhost:8080/",
          "height": 85
        }
      },
      "source": [
        "df['tournament'].value_counts()"
      ],
      "execution_count": 50,
      "outputs": [
        {
          "output_type": "execute_result",
          "data": {
            "text/plain": [
              "Other        10291\n",
              "Friendly      6408\n",
              "World cup      163\n",
              "Name: tournament, dtype: int64"
            ]
          },
          "metadata": {
            "tags": []
          },
          "execution_count": 50
        }
      ]
    },
    {
      "cell_type": "code",
      "metadata": {
        "id": "e1lDAV0TmkXb",
        "outputId": "c8083099-e830-4bdd-c739-223fea4b2972",
        "colab": {
          "base_uri": "https://localhost:8080/",
          "height": 527
        }
      },
      "source": [
        "# Checking for outliers using\n",
        "import matplotlib.pyplot as plt\n",
        "import seaborn as sns\n",
        "\n",
        "fig, ax = plt.subplots(1,2, figsize=(15,8))\n",
        "fig.suptitle('Boxplots')\n",
        "sns.boxplot(data=df, y = \"home_score\", ax=ax[0])\n",
        "ax[0].set_title('Box Plot of Home Team Scores')\n",
        "sns.boxplot(data=df, y = \"away_score\", ax=ax[1])\n",
        "ax[1].set_title('Box Plot of Away Team Scores')\n",
        "\n",
        "plt.show()"
      ],
      "execution_count": 51,
      "outputs": [
        {
          "output_type": "display_data",
          "data": {
            "image/png": "[encoded data removed]",
            "text/plain": [
              "<Figure size 1080x576 with 2 Axes>"
            ]
          },
          "metadata": {
            "tags": [],
            "needs_background": "light"
          }
        }
      ]
    },
    {
      "cell_type": "markdown",
      "metadata": {
        "id": "_uR3q3DZnMy3"
      },
      "source": [
        "we will not remove the outliers since they may not affect anything for our project, also we assume they are normal"
      ]
    },
    {
      "cell_type": "code",
      "metadata": {
        "id": "mR3ujf_2bkyh"
      },
      "source": [
        "df.to_csv('fifa_result.csv')"
      ],
      "execution_count": 52,
      "outputs": []
    },
    {
      "cell_type": "markdown",
      "metadata": {
        "id": "FOtKZU-YluN3"
      },
      "source": [
        "### Performing EDA"
      ]
    },
    {
      "cell_type": "code",
      "metadata": {
        "id": "lAdK3_4TltIs",
        "outputId": "3224a12d-a9f3-4005-9289-6c70b469c218",
        "colab": {
          "base_uri": "https://localhost:8080/",
          "height": 297
        }
      },
      "source": [
        "#univariate analysis\n",
        "df.describe()"
      ],
      "execution_count": 53,
      "outputs": [
        {
          "output_type": "execute_result",
          "data": {
            "text/html": [
              "<div>\n",
              "<style scoped>\n",
              "    .dataframe tbody tr th:only-of-type {\n",
              "        vertical-align: middle;\n",
              "    }\n",
              "\n",
              "    .dataframe tbody tr th {\n",
              "        vertical-align: top;\n",
              "    }\n",
              "\n",
              "    .dataframe thead th {\n",
              "        text-align: right;\n",
              "    }\n",
              "</style>\n",
              "<table border=\"1\" class=\"dataframe\">\n",
              "  <thead>\n",
              "    <tr style=\"text-align: right;\">\n",
              "      <th></th>\n",
              "      <th>home_rank</th>\n",
              "      <th>home_score</th>\n",
              "      <th>away_score</th>\n",
              "      <th>away_rank</th>\n",
              "    </tr>\n",
              "  </thead>\n",
              "  <tbody>\n",
              "    <tr>\n",
              "      <th>count</th>\n",
              "      <td>16862.000000</td>\n",
              "      <td>16862.000000</td>\n",
              "      <td>16862.000000</td>\n",
              "      <td>16862.000000</td>\n",
              "    </tr>\n",
              "    <tr>\n",
              "      <th>mean</th>\n",
              "      <td>76.023248</td>\n",
              "      <td>1.604673</td>\n",
              "      <td>1.069624</td>\n",
              "      <td>78.853042</td>\n",
              "    </tr>\n",
              "    <tr>\n",
              "      <th>std</th>\n",
              "      <td>50.852071</td>\n",
              "      <td>1.616018</td>\n",
              "      <td>1.245983</td>\n",
              "      <td>52.005515</td>\n",
              "    </tr>\n",
              "    <tr>\n",
              "      <th>min</th>\n",
              "      <td>1.000000</td>\n",
              "      <td>0.000000</td>\n",
              "      <td>0.000000</td>\n",
              "      <td>1.000000</td>\n",
              "    </tr>\n",
              "    <tr>\n",
              "      <th>25%</th>\n",
              "      <td>33.000000</td>\n",
              "      <td>0.000000</td>\n",
              "      <td>0.000000</td>\n",
              "      <td>35.000000</td>\n",
              "    </tr>\n",
              "    <tr>\n",
              "      <th>50%</th>\n",
              "      <td>70.000000</td>\n",
              "      <td>1.000000</td>\n",
              "      <td>1.000000</td>\n",
              "      <td>72.000000</td>\n",
              "    </tr>\n",
              "    <tr>\n",
              "      <th>75%</th>\n",
              "      <td>112.000000</td>\n",
              "      <td>2.000000</td>\n",
              "      <td>2.000000</td>\n",
              "      <td>115.000000</td>\n",
              "    </tr>\n",
              "    <tr>\n",
              "      <th>max</th>\n",
              "      <td>209.000000</td>\n",
              "      <td>31.000000</td>\n",
              "      <td>15.000000</td>\n",
              "      <td>209.000000</td>\n",
              "    </tr>\n",
              "  </tbody>\n",
              "</table>\n",
              "</div>"
            ],
            "text/plain": [
              "          home_rank    home_score    away_score     away_rank\n",
              "count  16862.000000  16862.000000  16862.000000  16862.000000\n",
              "mean      76.023248      1.604673      1.069624     78.853042\n",
              "std       50.852071      1.616018      1.245983     52.005515\n",
              "min        1.000000      0.000000      0.000000      1.000000\n",
              "25%       33.000000      0.000000      0.000000     35.000000\n",
              "50%       70.000000      1.000000      1.000000     72.000000\n",
              "75%      112.000000      2.000000      2.000000    115.000000\n",
              "max      209.000000     31.000000     15.000000    209.000000"
            ]
          },
          "metadata": {
            "tags": []
          },
          "execution_count": 53
        }
      ]
    },
    {
      "cell_type": "code",
      "metadata": {
        "id": "KZ88LcFUD_q2",
        "outputId": "9414b25c-6450-43af-e6f8-41215ba17c95",
        "colab": {
          "base_uri": "https://localhost:8080/",
          "height": 504
        }
      },
      "source": [
        "#visualizing home scores\n",
        "fig = plt.figure(figsize=(15,15))\n",
        "fig.add_subplot(2,1,1)\n",
        "sns.distplot(df['home_rank'])"
      ],
      "execution_count": 54,
      "outputs": [
        {
          "output_type": "stream",
          "text": [
            "/usr/local/lib/python3.6/dist-packages/seaborn/distributions.py:2551: FutureWarning: `distplot` is a deprecated function and will be removed in a future version. Please adapt your code to use either `displot` (a figure-level function with similar flexibility) or `histplot` (an axes-level function for histograms).\n",
            "  warnings.warn(msg, FutureWarning)\n"
          ],
          "name": "stderr"
        },
        {
          "output_type": "execute_result",
          "data": {
            "text/plain": [
              "<matplotlib.axes._subplots.AxesSubplot at 0x7f52737806d8>"
            ]
          },
          "metadata": {
            "tags": []
          },
          "execution_count": 54
        },
        {
          "output_type": "display_data",
          "data": {
            "image/png": "[encoded data removed]",
            "text/plain": [
              "<Figure size 1080x1080 with 1 Axes>"
            ]
          },
          "metadata": {
            "tags": [],
            "needs_background": "light"
          }
        }
      ]
    },
    {
      "cell_type": "code",
      "metadata": {
        "id": "P0ktBKiMFAQ4",
        "outputId": "a1b00e58-3cec-4c71-fd34-d4b5b80044b2",
        "colab": {
          "base_uri": "https://localhost:8080/",
          "height": 504
        }
      },
      "source": [
        "#visualizing home scores\n",
        "fig = plt.figure(figsize=(15,15))\n",
        "fig.add_subplot(2,1,1)\n",
        "sns.distplot(df['away_rank'])"
      ],
      "execution_count": 55,
      "outputs": [
        {
          "output_type": "stream",
          "text": [
            "/usr/local/lib/python3.6/dist-packages/seaborn/distributions.py:2551: FutureWarning: `distplot` is a deprecated function and will be removed in a future version. Please adapt your code to use either `displot` (a figure-level function with similar flexibility) or `histplot` (an axes-level function for histograms).\n",
            "  warnings.warn(msg, FutureWarning)\n"
          ],
          "name": "stderr"
        },
        {
          "output_type": "execute_result",
          "data": {
            "text/plain": [
              "<matplotlib.axes._subplots.AxesSubplot at 0x7f526910a390>"
            ]
          },
          "metadata": {
            "tags": []
          },
          "execution_count": 55
        },
        {
          "output_type": "display_data",
          "data": {
            "image/png": "[encoded data removed]",
            "text/plain": [
              "<Figure size 1080x1080 with 1 Axes>"
            ]
          },
          "metadata": {
            "tags": [],
            "needs_background": "light"
          }
        }
      ]
    },
    {
      "cell_type": "code",
      "metadata": {
        "id": "D-U8ZE8EGLO1",
        "outputId": "fbd8509d-251e-4d7d-fd61-d4f34ad6aea4",
        "colab": {
          "base_uri": "https://localhost:8080/",
          "height": 68
        }
      },
      "source": [
        "df.columns"
      ],
      "execution_count": 56,
      "outputs": [
        {
          "output_type": "execute_result",
          "data": {
            "text/plain": [
              "Index(['home_rank', 'year', 'home_team', 'away_team', 'home_score',\n",
              "       'away_score', 'away_rank', 'tournament', 'status'],\n",
              "      dtype='object')"
            ]
          },
          "metadata": {
            "tags": []
          },
          "execution_count": 56
        }
      ]
    },
    {
      "cell_type": "code",
      "metadata": {
        "id": "u3dcnU_7GAHQ",
        "outputId": "e9300ad5-2c45-46a4-ba00-1ff3ad538164",
        "colab": {
          "base_uri": "https://localhost:8080/",
          "height": 102
        }
      },
      "source": [
        "df[['home_rank', 'home_team', 'away_team', 'home_score',\n",
        "       'away_score', 'away_rank', 'tournament', 'status']].skew()"
      ],
      "execution_count": 57,
      "outputs": [
        {
          "output_type": "execute_result",
          "data": {
            "text/plain": [
              "home_rank     0.448408\n",
              "home_score    2.326092\n",
              "away_score    1.927332\n",
              "away_rank     0.447984\n",
              "dtype: float64"
            ]
          },
          "metadata": {
            "tags": []
          },
          "execution_count": 57
        }
      ]
    },
    {
      "cell_type": "markdown",
      "metadata": {
        "id": "X3uYB9p2GWwi"
      },
      "source": [
        "All of the variables are positively skewed.\n"
      ]
    },
    {
      "cell_type": "code",
      "metadata": {
        "id": "TiCZtGQYn8RD",
        "outputId": "de45ab3b-85a7-497f-b173-c8b55ee4f3d9",
        "colab": {
          "base_uri": "https://localhost:8080/",
          "height": 488
        }
      },
      "source": [
        "#bivariate analysisi\n",
        "fig = plt.figure(figsize=(12,8))\n",
        "sns.heatmap(df.corr(),annot=True)\n",
        "plt.show()"
      ],
      "execution_count": 58,
      "outputs": [
        {
          "output_type": "display_data",
          "data": {
            "image/png": "[encoded data removed]",
            "text/plain": [
              "<Figure size 864x576 with 2 Axes>"
            ]
          },
          "metadata": {
            "tags": [],
            "needs_background": "light"
          }
        }
      ]
    },
    {
      "cell_type": "code",
      "metadata": {
        "id": "RXhoEK9VG07v"
      },
      "source": [
        "#plotting bivariate summaries\n"
      ],
      "execution_count": 59,
      "outputs": []
    },
    {
      "cell_type": "markdown",
      "metadata": {
        "id": "29-fWbC9E2_x"
      },
      "source": [
        "# **Check of multicollinearity**"
      ]
    },
    {
      "cell_type": "code",
      "metadata": {
        "id": "GV5y6fFHFESg",
        "outputId": "add37c1b-eae5-450e-e04f-bdc2b077223d",
        "colab": {
          "base_uri": "https://localhost:8080/",
          "height": 68
        }
      },
      "source": [
        "df.columns"
      ],
      "execution_count": 60,
      "outputs": [
        {
          "output_type": "execute_result",
          "data": {
            "text/plain": [
              "Index(['home_rank', 'year', 'home_team', 'away_team', 'home_score',\n",
              "       'away_score', 'away_rank', 'tournament', 'status'],\n",
              "      dtype='object')"
            ]
          },
          "metadata": {
            "tags": []
          },
          "execution_count": 60
        }
      ]
    },
    {
      "cell_type": "code",
      "metadata": {
        "id": "kKhKIrz3FENS",
        "outputId": "eb79b7c4-fb5d-41e3-dc1a-0ed891a4e8ce",
        "colab": {
          "base_uri": "https://localhost:8080/",
          "height": 173
        }
      },
      "source": [
        "\n",
        "#to focus on our independent variables only.\n",
        "independent_only = df[['home_rank', 'home_score', 'away_score', 'away_rank']] \n",
        "\n",
        "#displaying the correlations between the variables\n",
        "correlations = independent_only.corr()\n",
        "\n",
        "correlations"
      ],
      "execution_count": 61,
      "outputs": [
        {
          "output_type": "execute_result",
          "data": {
            "text/html": [
              "<div>\n",
              "<style scoped>\n",
              "    .dataframe tbody tr th:only-of-type {\n",
              "        vertical-align: middle;\n",
              "    }\n",
              "\n",
              "    .dataframe tbody tr th {\n",
              "        vertical-align: top;\n",
              "    }\n",
              "\n",
              "    .dataframe thead th {\n",
              "        text-align: right;\n",
              "    }\n",
              "</style>\n",
              "<table border=\"1\" class=\"dataframe\">\n",
              "  <thead>\n",
              "    <tr style=\"text-align: right;\">\n",
              "      <th></th>\n",
              "      <th>home_rank</th>\n",
              "      <th>home_score</th>\n",
              "      <th>away_score</th>\n",
              "      <th>away_rank</th>\n",
              "    </tr>\n",
              "  </thead>\n",
              "  <tbody>\n",
              "    <tr>\n",
              "      <th>home_rank</th>\n",
              "      <td>1.000000</td>\n",
              "      <td>-0.135345</td>\n",
              "      <td>0.221738</td>\n",
              "      <td>0.469376</td>\n",
              "    </tr>\n",
              "    <tr>\n",
              "      <th>home_score</th>\n",
              "      <td>-0.135345</td>\n",
              "      <td>1.000000</td>\n",
              "      <td>-0.163737</td>\n",
              "      <td>0.318861</td>\n",
              "    </tr>\n",
              "    <tr>\n",
              "      <th>away_score</th>\n",
              "      <td>0.221738</td>\n",
              "      <td>-0.163737</td>\n",
              "      <td>1.000000</td>\n",
              "      <td>-0.179911</td>\n",
              "    </tr>\n",
              "    <tr>\n",
              "      <th>away_rank</th>\n",
              "      <td>0.469376</td>\n",
              "      <td>0.318861</td>\n",
              "      <td>-0.179911</td>\n",
              "      <td>1.000000</td>\n",
              "    </tr>\n",
              "  </tbody>\n",
              "</table>\n",
              "</div>"
            ],
            "text/plain": [
              "            home_rank  home_score  away_score  away_rank\n",
              "home_rank    1.000000   -0.135345    0.221738   0.469376\n",
              "home_score  -0.135345    1.000000   -0.163737   0.318861\n",
              "away_score   0.221738   -0.163737    1.000000  -0.179911\n",
              "away_rank    0.469376    0.318861   -0.179911   1.000000"
            ]
          },
          "metadata": {
            "tags": []
          },
          "execution_count": 61
        }
      ]
    },
    {
      "cell_type": "code",
      "metadata": {
        "id": "ynSwvBbkIrji",
        "outputId": "18d32055-27e7-4bc4-bda5-2f86e231fd3e",
        "colab": {
          "base_uri": "https://localhost:8080/",
          "height": 173
        }
      },
      "source": [
        "#calculating the VIF from the correlation above\n",
        "pd.DataFrame(np.linalg.inv(correlations.values), index = correlations.index, columns=correlations.columns)\n",
        "\n",
        "# If VIF = 1, a variable  is not correlated with any other independent variable. \n",
        "#As a rule of thumb, multicollinearity is a potential problem when VIF is greater than 4; and,\n",
        "# a serious problem when it is greater than 10. The output above shows a VIF of:\n",
        "# home-rank = 1.54,away_rank = 1.68,home_score = 1.27, away_score = 1.17\n",
        "# which indicates some multicollinearity,not too much so we do nothing about it."
      ],
      "execution_count": 62,
      "outputs": [
        {
          "output_type": "execute_result",
          "data": {
            "text/html": [
              "<div>\n",
              "<style scoped>\n",
              "    .dataframe tbody tr th:only-of-type {\n",
              "        vertical-align: middle;\n",
              "    }\n",
              "\n",
              "    .dataframe tbody tr th {\n",
              "        vertical-align: top;\n",
              "    }\n",
              "\n",
              "    .dataframe thead th {\n",
              "        text-align: right;\n",
              "    }\n",
              "</style>\n",
              "<table border=\"1\" class=\"dataframe\">\n",
              "  <thead>\n",
              "    <tr style=\"text-align: right;\">\n",
              "      <th></th>\n",
              "      <th>home_rank</th>\n",
              "      <th>home_score</th>\n",
              "      <th>away_score</th>\n",
              "      <th>away_rank</th>\n",
              "    </tr>\n",
              "  </thead>\n",
              "  <tbody>\n",
              "    <tr>\n",
              "      <th>home_rank</th>\n",
              "      <td>1.635200</td>\n",
              "      <td>0.463563</td>\n",
              "      <td>-0.466461</td>\n",
              "      <td>-0.999256</td>\n",
              "    </tr>\n",
              "    <tr>\n",
              "      <th>home_score</th>\n",
              "      <td>0.463563</td>\n",
              "      <td>1.259276</td>\n",
              "      <td>-0.008253</td>\n",
              "      <td>-0.620604</td>\n",
              "    </tr>\n",
              "    <tr>\n",
              "      <th>away_score</th>\n",
              "      <td>-0.466461</td>\n",
              "      <td>-0.008253</td>\n",
              "      <td>1.180144</td>\n",
              "      <td>0.433898</td>\n",
              "    </tr>\n",
              "    <tr>\n",
              "      <th>away_rank</th>\n",
              "      <td>-0.999256</td>\n",
              "      <td>-0.620604</td>\n",
              "      <td>0.433898</td>\n",
              "      <td>1.744976</td>\n",
              "    </tr>\n",
              "  </tbody>\n",
              "</table>\n",
              "</div>"
            ],
            "text/plain": [
              "            home_rank  home_score  away_score  away_rank\n",
              "home_rank    1.635200    0.463563   -0.466461  -0.999256\n",
              "home_score   0.463563    1.259276   -0.008253  -0.620604\n",
              "away_score  -0.466461   -0.008253    1.180144   0.433898\n",
              "away_rank   -0.999256   -0.620604    0.433898   1.744976"
            ]
          },
          "metadata": {
            "tags": []
          },
          "execution_count": 62
        }
      ]
    },
    {
      "cell_type": "markdown",
      "metadata": {
        "id": "DTNk52K6Ux76"
      },
      "source": [
        "# **Building the model**"
      ]
    },
    {
      "cell_type": "markdown",
      "metadata": {
        "id": "dCWwlGX2TTe0"
      },
      "source": [
        "# **polynomial approach**\n",
        "\n",
        "\n",
        "> What to train given:\n",
        "\n",
        "Rank of home team\n",
        "\n",
        "Rank of away team\n",
        "\n",
        "Tournament type\n",
        "\n",
        "Model 1: Predict how many goals the home team scores.\n",
        "\n"
      ]
    },
    {
      "cell_type": "code",
      "metadata": {
        "id": "KuEsXbXdfi0n"
      },
      "source": [
        "# encoding the tournament column with numeric codes\n",
        "\n",
        "# import labelencoder\n",
        "from sklearn.preprocessing import LabelEncoder\n",
        "\n",
        "# apply label encoder to appropriate column\n",
        "\n",
        "le = LabelEncoder()\n",
        "df['tournament'] = le.fit_transform(df['tournament'])"
      ],
      "execution_count": 63,
      "outputs": []
    },
    {
      "cell_type": "code",
      "metadata": {
        "id": "NAzo6BTRU2mn"
      },
      "source": [
        "#predicting the home scores\n",
        "import matplotlib.pyplot as plt\n",
        "\n",
        "from sklearn.preprocessing import PolynomialFeatures\n",
        "\n",
        "from sklearn.model_selection import train_test_split\n",
        "\n",
        "# Import LinearRegression method from sklearn linear_model library\n",
        "from sklearn.linear_model import LinearRegression"
      ],
      "execution_count": 64,
      "outputs": []
    },
    {
      "cell_type": "code",
      "metadata": {
        "id": "N5M0_L3ycqS0",
        "outputId": "ff62b350-e57e-4c6b-d567-02e605cde221",
        "colab": {
          "base_uri": "https://localhost:8080/",
          "height": 51
        }
      },
      "source": [
        "#setting our dependent and independent variables\n",
        "x = (df[['home_rank', 'away_rank', 'tournament']])\n",
        "y = df['home_score']\n",
        "\n",
        "print(x.shape)\n",
        "print(y.shape)"
      ],
      "execution_count": 65,
      "outputs": [
        {
          "output_type": "stream",
          "text": [
            "(16862, 3)\n",
            "(16862,)\n"
          ],
          "name": "stdout"
        }
      ]
    },
    {
      "cell_type": "code",
      "metadata": {
        "id": "Ocp7LoB3dNoD"
      },
      "source": [
        "# splitting the dataset into train and test sets\n",
        "x_train, x_test, y_train, y_test = train_test_split(x, y, random_state = 13, test_size = 0.2)\n",
        "\n",
        "\n",
        "# scaling the train and test sets\n",
        "from sklearn.preprocessing import StandardScaler\n",
        "sc = StandardScaler()\n",
        "x_train = sc.fit_transform(x_train)\n",
        "x_test = sc.transform(x_test)\n",
        "\n",
        "# fitting the polynomial regression to the dataset\n",
        "poly_features = PolynomialFeatures(degree = 1,include_bias = False)\n",
        "x_train = poly_features.fit_transform(x_train)\n",
        "x_test = poly_features.fit_transform(x_test)\n",
        "\n",
        "# training the model\n",
        "regressor = LinearRegression()\n",
        "regressor.fit(x_train, y_train)\n",
        "\n",
        "# making predictions\n",
        "y_pred = regressor.predict(x_test)"
      ],
      "execution_count": 66,
      "outputs": []
    },
    {
      "cell_type": "code",
      "metadata": {
        "id": "NDKFHdAQq1Xs"
      },
      "source": [
        "from sklearn import metrics\n",
        "from sklearn.metrics import accuracy_score\n",
        "from sklearn.model_selection import LeaveOneOut"
      ],
      "execution_count": 67,
      "outputs": []
    },
    {
      "cell_type": "code",
      "metadata": {
        "id": "KwLKVi1adgib",
        "outputId": "197be390-7a0f-430e-b684-8b65c80b9eaa",
        "colab": {
          "base_uri": "https://localhost:8080/",
          "height": 34
        }
      },
      "source": [
        "#calculating rsmes\n",
        "print('Root Mean Squared Error:', np.sqrt(metrics.mean_squared_error(y_test, y_pred)))"
      ],
      "execution_count": 68,
      "outputs": [
        {
          "output_type": "stream",
          "text": [
            "Root Mean Squared Error: 1.4182483817956948\n"
          ],
          "name": "stdout"
        }
      ]
    },
    {
      "cell_type": "markdown",
      "metadata": {
        "id": "33NPCFvKtwKn"
      },
      "source": [
        "cross validating"
      ]
    },
    {
      "cell_type": "code",
      "metadata": {
        "id": "lxrQNYxydt6q",
        "outputId": "4bed51d6-5801-4fe6-ac9a-4344c47a9bdc",
        "colab": {
          "base_uri": "https://localhost:8080/",
          "height": 51
        }
      },
      "source": [
        "#setting our dependent and independent variables\n",
        "x = (df[['home_rank', 'away_rank', 'tournament']]).values\n",
        "y = df['home_score'].values\n",
        "# define the k-fold cross validation method\n",
        "folds = LeaveOneOut()\n",
        "\n",
        "#assess cross validation model\n",
        "RMSES = []\n",
        "count = 0\n",
        "for train_index, test_index in folds.split(x):\n",
        "  # set up train and test based on split determined by k-fold\n",
        "  x_train, x_test = x[train_index], x[test_index]\n",
        "  y_train, y_test = y[train_index], y[test_index]\n",
        "\n",
        "  # fitting the polynomial regression model\n",
        "  poly_regressor = PolynomialFeatures(degree = 1)    \n",
        "  x_reg = poly_regressor.fit_transform(x_train)      \n",
        "\n",
        "  #applying polynomial feature to linear regression\n",
        "  pol_reg = LinearRegression()                          \n",
        "  pol_reg.fit(x_reg, y_train)\n",
        "\n",
        "  # making predictions\n",
        "  y_pred = pol_reg.predict(poly_regressor.fit_transform(x_test))\n",
        "\n",
        "  # assessing the accuracy of the model\n",
        "  rmse_value = np.sqrt(metrics.mean_squared_error(y_test, y_pred))\n",
        "  RMSES.append (rmse_value)\n",
        "\n",
        "  count = count + 1\n",
        "\n",
        "print('Trained '+str(count) + ' models')\n",
        "print('The mean of the RMSES is: ' + str (np.mean(RMSES)))"
      ],
      "execution_count": 69,
      "outputs": [
        {
          "output_type": "stream",
          "text": [
            "Trained 16862 models\n",
            "The mean of the RMSES is: 1.048763843749294\n"
          ],
          "name": "stdout"
        }
      ]
    },
    {
      "cell_type": "markdown",
      "metadata": {
        "id": "HCbPnB6xrMma"
      },
      "source": [
        "the rsmes after crossvalidating our model improved abit as it decreases. "
      ]
    },
    {
      "cell_type": "code",
      "metadata": {
        "id": "UZ11VLwCsc_g",
        "outputId": "aee82fff-1fb8-4f8b-e2bc-d4190ca0ee27",
        "colab": {
          "base_uri": "https://localhost:8080/",
          "height": 297
        }
      },
      "source": [
        "# Create the residuals\n",
        "residuals = np.subtract(y_pred, y_test)\n",
        "\n",
        "# previewing the residuals\n",
        "\n",
        "pd.DataFrame(residuals).describe()"
      ],
      "execution_count": 70,
      "outputs": [
        {
          "output_type": "execute_result",
          "data": {
            "text/html": [
              "<div>\n",
              "<style scoped>\n",
              "    .dataframe tbody tr th:only-of-type {\n",
              "        vertical-align: middle;\n",
              "    }\n",
              "\n",
              "    .dataframe tbody tr th {\n",
              "        vertical-align: top;\n",
              "    }\n",
              "\n",
              "    .dataframe thead th {\n",
              "        text-align: right;\n",
              "    }\n",
              "</style>\n",
              "<table border=\"1\" class=\"dataframe\">\n",
              "  <thead>\n",
              "    <tr style=\"text-align: right;\">\n",
              "      <th></th>\n",
              "      <th>0</th>\n",
              "    </tr>\n",
              "  </thead>\n",
              "  <tbody>\n",
              "    <tr>\n",
              "      <th>count</th>\n",
              "      <td>1.000000</td>\n",
              "    </tr>\n",
              "    <tr>\n",
              "      <th>mean</th>\n",
              "      <td>0.520509</td>\n",
              "    </tr>\n",
              "    <tr>\n",
              "      <th>std</th>\n",
              "      <td>NaN</td>\n",
              "    </tr>\n",
              "    <tr>\n",
              "      <th>min</th>\n",
              "      <td>0.520509</td>\n",
              "    </tr>\n",
              "    <tr>\n",
              "      <th>25%</th>\n",
              "      <td>0.520509</td>\n",
              "    </tr>\n",
              "    <tr>\n",
              "      <th>50%</th>\n",
              "      <td>0.520509</td>\n",
              "    </tr>\n",
              "    <tr>\n",
              "      <th>75%</th>\n",
              "      <td>0.520509</td>\n",
              "    </tr>\n",
              "    <tr>\n",
              "      <th>max</th>\n",
              "      <td>0.520509</td>\n",
              "    </tr>\n",
              "  </tbody>\n",
              "</table>\n",
              "</div>"
            ],
            "text/plain": [
              "              0\n",
              "count  1.000000\n",
              "mean   0.520509\n",
              "std         NaN\n",
              "min    0.520509\n",
              "25%    0.520509\n",
              "50%    0.520509\n",
              "75%    0.520509\n",
              "max    0.520509"
            ]
          },
          "metadata": {
            "tags": []
          },
          "execution_count": 70
        }
      ]
    },
    {
      "cell_type": "code",
      "metadata": {
        "id": "Zjmf24Iqr0-H",
        "outputId": "029f551c-f887-49ed-a802-c5444a426b6b",
        "colab": {
          "base_uri": "https://localhost:8080/",
          "height": 238
        }
      },
      "source": [
        "#performing the Heteroskedasticity test\n",
        "import scipy as sp\n",
        "test_result, p_value = sp.stats.bartlett(y_pred, residuals)\n",
        "\n",
        "\n",
        "degree_of_freedom = len(y_pred)-1\n",
        "probability = 1 - p_value\n",
        "\n",
        "critical_value = sp.stats.chi2.ppf(probability, degree_of_freedom)\n",
        "print(critical_value)\n",
        "print(test_result)\n",
        "\n",
        "\n",
        "if (test_result > critical_value):\n",
        "  print('the variances are unequal, and the model should be reassessed')\n",
        "else:\n",
        "  print('the variances are homogeneous!')\n"
      ],
      "execution_count": 71,
      "outputs": [
        {
          "output_type": "stream",
          "text": [
            "nan\n",
            "nan\n",
            "the variances are homogeneous!\n"
          ],
          "name": "stdout"
        },
        {
          "output_type": "stream",
          "text": [
            "/usr/local/lib/python3.6/dist-packages/numpy/core/fromnumeric.py:3584: RuntimeWarning: Degrees of freedom <= 0 for slice\n",
            "  **kwargs)\n",
            "/usr/local/lib/python3.6/dist-packages/numpy/core/_methods.py:209: RuntimeWarning: invalid value encountered in double_scalars\n",
            "  ret = ret.dtype.type(ret / rcount)\n",
            "/usr/local/lib/python3.6/dist-packages/scipy/stats/morestats.py:2242: RuntimeWarning: divide by zero encountered in true_divide\n",
            "  denom = 1.0 + 1.0/(3*(k - 1)) * ((np.sum(1.0/(Ni - 1.0), axis=0)) -\n",
            "/usr/local/lib/python3.6/dist-packages/scipy/stats/morestats.py:2243: RuntimeWarning: divide by zero encountered in double_scalars\n",
            "  1.0/(Ntot - k))\n",
            "/usr/local/lib/python3.6/dist-packages/scipy/stats/morestats.py:2243: RuntimeWarning: invalid value encountered in double_scalars\n",
            "  1.0/(Ntot - k))\n"
          ],
          "name": "stderr"
        }
      ]
    },
    {
      "cell_type": "markdown",
      "metadata": {
        "id": "57A0m28nUFj6"
      },
      "source": [
        "Model 2: Predict how many goals the away team scores."
      ]
    },
    {
      "cell_type": "code",
      "metadata": {
        "id": "iHGFFRQuRvYm",
        "outputId": "65cbdbfa-48e3-417c-e33f-425672556f07",
        "colab": {
          "base_uri": "https://localhost:8080/",
          "height": 51
        }
      },
      "source": [
        "#defining our depenndent and indepent variables\n",
        "X = (df[['home_rank', 'away_rank', 'tournament']])\n",
        "y = df['away_score']\n",
        "print(X.shape)\n",
        "print(y.shape)"
      ],
      "execution_count": 72,
      "outputs": [
        {
          "output_type": "stream",
          "text": [
            "(16862, 3)\n",
            "(16862,)\n"
          ],
          "name": "stdout"
        }
      ]
    },
    {
      "cell_type": "code",
      "metadata": {
        "id": "DW1THBlGRv75"
      },
      "source": [
        "# splitting the dataset into train and test sets\n",
        "X_train, X_test, y_train, y_test = train_test_split(X, y, random_state = 13, test_size = 0.2)\n",
        "\n",
        "\n",
        "# scaling the train and test sets\n",
        "from sklearn.preprocessing import StandardScaler\n",
        "sc = StandardScaler()\n",
        "X_train = sc.fit_transform(X_train)\n",
        "X_test = sc.transform(X_test)\n",
        "\n",
        "# fitting the polynomial regression to the dataset\n",
        "poly_features = PolynomialFeatures(degree = 1,include_bias = False)\n",
        "X_train = poly_features.fit_transform(X_train)\n",
        "X_test = poly_features.fit_transform(X_test)\n",
        "\n",
        "# training the model\n",
        "regressor = LinearRegression()\n",
        "regressor.fit(X_train, y_train)\n",
        "\n",
        "# making predictions\n",
        "y_pred = regressor.predict(X_test)"
      ],
      "execution_count": 73,
      "outputs": []
    },
    {
      "cell_type": "code",
      "metadata": {
        "id": "aMaiyU5guZgX",
        "outputId": "614679a8-f9b5-482a-abd5-09e93424dec5",
        "colab": {
          "base_uri": "https://localhost:8080/",
          "height": 34
        }
      },
      "source": [
        "#calculating rsmes\n",
        "print('Root Mean Squared Error:', np.sqrt(metrics.mean_squared_error(y_test, y_pred)))"
      ],
      "execution_count": 74,
      "outputs": [
        {
          "output_type": "stream",
          "text": [
            "Root Mean Squared Error: 1.2032558696353046\n"
          ],
          "name": "stdout"
        }
      ]
    },
    {
      "cell_type": "markdown",
      "metadata": {
        "id": "AEbn120SN6pM"
      },
      "source": [
        "cross validating our model using k-fold"
      ]
    },
    {
      "cell_type": "code",
      "metadata": {
        "id": "KiKX9cYoN5lN",
        "outputId": "0179884e-ed9f-4038-d3b1-ec7f6c63bb20",
        "colab": {
          "base_uri": "https://localhost:8080/",
          "height": 51
        }
      },
      "source": [
        "#setting our dependent and independent variables\n",
        "X = (df[['home_rank', 'away_rank', 'tournament']]).values\n",
        "y = df['away_score'].values\n",
        "# define the k-fold cross validation method\n",
        "folds = LeaveOneOut()\n",
        "\n",
        "#assess cross validation model\n",
        "RMSES = []\n",
        "count = 0\n",
        "for train_index, test_index in folds.split(x):\n",
        "  # set up train and test based on split determined by k-fold\n",
        "  X_train, X_test = X[train_index], X[test_index]\n",
        "  y_train, y_test = y[train_index], y[test_index]\n",
        "\n",
        "  # fitting the polynomial regression model\n",
        "  poly_regressor = PolynomialFeatures(degree = 1)    \n",
        "  X_reg = poly_regressor.fit_transform(X_train)      \n",
        "\n",
        "  #applying polynomial feature to linear regression\n",
        "  pol_reg = LinearRegression()                          \n",
        "  pol_reg.fit(X_reg, y_train)\n",
        "\n",
        "  # making predictions\n",
        "  y_pred = pol_reg.predict(poly_regressor.fit_transform(X_test))\n",
        "\n",
        "  # assessing the accuracy of the model\n",
        "  rmse_value = np.sqrt(metrics.mean_squared_error(y_test, y_pred))\n",
        "  RMSES.append (rmse_value)\n",
        "\n",
        "  count = count + 1\n",
        "\n",
        "print('Trained '+str(count) + ' models')\n",
        "print('The mean of the RMSES is: ' + str (np.mean(RMSES)))\n",
        "  \n"
      ],
      "execution_count": 75,
      "outputs": [
        {
          "output_type": "stream",
          "text": [
            "Trained 16862 models\n",
            "The mean of the RMSES is: 0.8524261613245147\n"
          ],
          "name": "stdout"
        }
      ]
    },
    {
      "cell_type": "code",
      "metadata": {
        "id": "m-rKNsmbv3xd",
        "outputId": "0327ea4e-88a2-46c4-fa95-abc91aacfd24",
        "colab": {
          "base_uri": "https://localhost:8080/",
          "height": 297
        }
      },
      "source": [
        "# Calculating the residuals\n",
        "residuals = np.subtract(y_pred, y_test)\n",
        "\n",
        "# previewing the residuals\n",
        "\n",
        "pd.DataFrame(residuals).describe()"
      ],
      "execution_count": 76,
      "outputs": [
        {
          "output_type": "execute_result",
          "data": {
            "text/html": [
              "<div>\n",
              "<style scoped>\n",
              "    .dataframe tbody tr th:only-of-type {\n",
              "        vertical-align: middle;\n",
              "    }\n",
              "\n",
              "    .dataframe tbody tr th {\n",
              "        vertical-align: top;\n",
              "    }\n",
              "\n",
              "    .dataframe thead th {\n",
              "        text-align: right;\n",
              "    }\n",
              "</style>\n",
              "<table border=\"1\" class=\"dataframe\">\n",
              "  <thead>\n",
              "    <tr style=\"text-align: right;\">\n",
              "      <th></th>\n",
              "      <th>0</th>\n",
              "    </tr>\n",
              "  </thead>\n",
              "  <tbody>\n",
              "    <tr>\n",
              "      <th>count</th>\n",
              "      <td>1.000000</td>\n",
              "    </tr>\n",
              "    <tr>\n",
              "      <th>mean</th>\n",
              "      <td>0.904093</td>\n",
              "    </tr>\n",
              "    <tr>\n",
              "      <th>std</th>\n",
              "      <td>NaN</td>\n",
              "    </tr>\n",
              "    <tr>\n",
              "      <th>min</th>\n",
              "      <td>0.904093</td>\n",
              "    </tr>\n",
              "    <tr>\n",
              "      <th>25%</th>\n",
              "      <td>0.904093</td>\n",
              "    </tr>\n",
              "    <tr>\n",
              "      <th>50%</th>\n",
              "      <td>0.904093</td>\n",
              "    </tr>\n",
              "    <tr>\n",
              "      <th>75%</th>\n",
              "      <td>0.904093</td>\n",
              "    </tr>\n",
              "    <tr>\n",
              "      <th>max</th>\n",
              "      <td>0.904093</td>\n",
              "    </tr>\n",
              "  </tbody>\n",
              "</table>\n",
              "</div>"
            ],
            "text/plain": [
              "              0\n",
              "count  1.000000\n",
              "mean   0.904093\n",
              "std         NaN\n",
              "min    0.904093\n",
              "25%    0.904093\n",
              "50%    0.904093\n",
              "75%    0.904093\n",
              "max    0.904093"
            ]
          },
          "metadata": {
            "tags": []
          },
          "execution_count": 76
        }
      ]
    },
    {
      "cell_type": "code",
      "metadata": {
        "id": "edJ4HczNvztV",
        "outputId": "4d38e56a-9675-446b-ec0c-04d438e8ee65",
        "colab": {
          "base_uri": "https://localhost:8080/",
          "height": 238
        }
      },
      "source": [
        "#performing the Heteroskedasticity test\n",
        "import scipy as sp\n",
        "test_result, p_value = sp.stats.bartlett(y_pred, residuals)\n",
        "\n",
        "\n",
        "degree_of_freedom = len(y_pred)-1\n",
        "probability = 1 - p_value\n",
        "\n",
        "critical_value = sp.stats.chi2.ppf(probability, degree_of_freedom)\n",
        "print(critical_value)\n",
        "print(test_result)\n",
        "\n",
        "\n",
        "if (test_result > critical_value):\n",
        "  print('the variances are unequal, and the model should be reassessed')\n",
        "else:\n",
        "  print('the variances are homogeneous!')"
      ],
      "execution_count": 77,
      "outputs": [
        {
          "output_type": "stream",
          "text": [
            "nan\n",
            "nan\n",
            "the variances are homogeneous!\n"
          ],
          "name": "stdout"
        },
        {
          "output_type": "stream",
          "text": [
            "/usr/local/lib/python3.6/dist-packages/numpy/core/fromnumeric.py:3584: RuntimeWarning: Degrees of freedom <= 0 for slice\n",
            "  **kwargs)\n",
            "/usr/local/lib/python3.6/dist-packages/numpy/core/_methods.py:209: RuntimeWarning: invalid value encountered in double_scalars\n",
            "  ret = ret.dtype.type(ret / rcount)\n",
            "/usr/local/lib/python3.6/dist-packages/scipy/stats/morestats.py:2242: RuntimeWarning: divide by zero encountered in true_divide\n",
            "  denom = 1.0 + 1.0/(3*(k - 1)) * ((np.sum(1.0/(Ni - 1.0), axis=0)) -\n",
            "/usr/local/lib/python3.6/dist-packages/scipy/stats/morestats.py:2243: RuntimeWarning: divide by zero encountered in double_scalars\n",
            "  1.0/(Ntot - k))\n",
            "/usr/local/lib/python3.6/dist-packages/scipy/stats/morestats.py:2243: RuntimeWarning: invalid value encountered in double_scalars\n",
            "  1.0/(Ntot - k))\n"
          ],
          "name": "stderr"
        }
      ]
    },
    {
      "cell_type": "markdown",
      "metadata": {
        "id": "r3gSou_IvQlC"
      },
      "source": [
        "the rsmes quite improved for this model afyter crossvalidating."
      ]
    },
    {
      "cell_type": "markdown",
      "metadata": {
        "id": "583vFKbDTZUP"
      },
      "source": [
        "# logistic approach\n",
        "\n",
        "\n",
        "\n",
        "> Figure out from the home team’s perspective if the game is a Win, Lose or Draw (W, L, D)\n",
        "\n"
      ]
    },
    {
      "cell_type": "code",
      "metadata": {
        "id": "f0tG_eNtVLjr",
        "outputId": "f7e07427-a63e-4cc0-d3a6-bf28943d9a10",
        "colab": {
          "base_uri": "https://localhost:8080/",
          "height": 204
        }
      },
      "source": [
        "df.head()"
      ],
      "execution_count": 78,
      "outputs": [
        {
          "output_type": "execute_result",
          "data": {
            "text/html": [
              "<div>\n",
              "<style scoped>\n",
              "    .dataframe tbody tr th:only-of-type {\n",
              "        vertical-align: middle;\n",
              "    }\n",
              "\n",
              "    .dataframe tbody tr th {\n",
              "        vertical-align: top;\n",
              "    }\n",
              "\n",
              "    .dataframe thead th {\n",
              "        text-align: right;\n",
              "    }\n",
              "</style>\n",
              "<table border=\"1\" class=\"dataframe\">\n",
              "  <thead>\n",
              "    <tr style=\"text-align: right;\">\n",
              "      <th></th>\n",
              "      <th>home_rank</th>\n",
              "      <th>year</th>\n",
              "      <th>home_team</th>\n",
              "      <th>away_team</th>\n",
              "      <th>home_score</th>\n",
              "      <th>away_score</th>\n",
              "      <th>away_rank</th>\n",
              "      <th>tournament</th>\n",
              "      <th>status</th>\n",
              "    </tr>\n",
              "  </thead>\n",
              "  <tbody>\n",
              "    <tr>\n",
              "      <th>0</th>\n",
              "      <td>4</td>\n",
              "      <td>1993-08</td>\n",
              "      <td>Sweden</td>\n",
              "      <td>Switzerland</td>\n",
              "      <td>1</td>\n",
              "      <td>2</td>\n",
              "      <td>3</td>\n",
              "      <td>0</td>\n",
              "      <td>Loss</td>\n",
              "    </tr>\n",
              "    <tr>\n",
              "      <th>1</th>\n",
              "      <td>4</td>\n",
              "      <td>1993-08</td>\n",
              "      <td>Sweden</td>\n",
              "      <td>France</td>\n",
              "      <td>1</td>\n",
              "      <td>1</td>\n",
              "      <td>12</td>\n",
              "      <td>1</td>\n",
              "      <td>Draw</td>\n",
              "    </tr>\n",
              "    <tr>\n",
              "      <th>2</th>\n",
              "      <td>5</td>\n",
              "      <td>1993-08</td>\n",
              "      <td>Argentina</td>\n",
              "      <td>Peru</td>\n",
              "      <td>2</td>\n",
              "      <td>1</td>\n",
              "      <td>70</td>\n",
              "      <td>1</td>\n",
              "      <td>Win</td>\n",
              "    </tr>\n",
              "    <tr>\n",
              "      <th>3</th>\n",
              "      <td>5</td>\n",
              "      <td>1993-08</td>\n",
              "      <td>Argentina</td>\n",
              "      <td>Paraguay</td>\n",
              "      <td>0</td>\n",
              "      <td>0</td>\n",
              "      <td>67</td>\n",
              "      <td>1</td>\n",
              "      <td>Draw</td>\n",
              "    </tr>\n",
              "    <tr>\n",
              "      <th>4</th>\n",
              "      <td>8</td>\n",
              "      <td>1993-08</td>\n",
              "      <td>Brazil</td>\n",
              "      <td>Mexico</td>\n",
              "      <td>1</td>\n",
              "      <td>1</td>\n",
              "      <td>14</td>\n",
              "      <td>0</td>\n",
              "      <td>Draw</td>\n",
              "    </tr>\n",
              "  </tbody>\n",
              "</table>\n",
              "</div>"
            ],
            "text/plain": [
              "   home_rank     year  home_team  ... away_rank  tournament  status\n",
              "0          4  1993-08     Sweden  ...         3           0    Loss\n",
              "1          4  1993-08     Sweden  ...        12           1    Draw\n",
              "2          5  1993-08  Argentina  ...        70           1     Win\n",
              "3          5  1993-08  Argentina  ...        67           1    Draw\n",
              "4          8  1993-08     Brazil  ...        14           0    Draw\n",
              "\n",
              "[5 rows x 9 columns]"
            ]
          },
          "metadata": {
            "tags": []
          },
          "execution_count": 78
        }
      ]
    },
    {
      "cell_type": "code",
      "metadata": {
        "id": "4ocOsqJfVLoU",
        "outputId": "d0b41f79-f7fb-42eb-c5f2-70cc4c25f31f",
        "colab": {
          "base_uri": "https://localhost:8080/",
          "height": 51
        }
      },
      "source": [
        "#predicting the home team status: win,loss or draw\n",
        "X= (df[['home_score', 'home_rank', 'tournament']])\n",
        "Y = df['status']\n",
        "\n",
        "print(X.shape)\n",
        "print(Y.shape)"
      ],
      "execution_count": 79,
      "outputs": [
        {
          "output_type": "stream",
          "text": [
            "(16862, 3)\n",
            "(16862,)\n"
          ],
          "name": "stdout"
        }
      ]
    },
    {
      "cell_type": "code",
      "metadata": {
        "id": "jDbw3jHQVLen"
      },
      "source": [
        "#splitting into training and test sets\n",
        "X_train, X_test, Y_train, Y_test = train_test_split(X, Y, test_size=0.3, random_state=42)"
      ],
      "execution_count": 80,
      "outputs": []
    },
    {
      "cell_type": "code",
      "metadata": {
        "id": "sKojJ0wKRvO5",
        "outputId": "01f239e5-b4c8-48b9-bf76-0bfe1b600d99",
        "colab": {
          "base_uri": "https://localhost:8080/",
          "height": 238
        }
      },
      "source": [
        "# Fitting our model\n",
        "\n",
        "from sklearn.linear_model import LogisticRegression\n",
        "\n",
        "LogReg = LogisticRegression()\n",
        "LogReg.fit(X_train, Y_train)"
      ],
      "execution_count": 81,
      "outputs": [
        {
          "output_type": "stream",
          "text": [
            "/usr/local/lib/python3.6/dist-packages/sklearn/linear_model/_logistic.py:940: ConvergenceWarning: lbfgs failed to converge (status=1):\n",
            "STOP: TOTAL NO. of ITERATIONS REACHED LIMIT.\n",
            "\n",
            "Increase the number of iterations (max_iter) or scale the data as shown in:\n",
            "    https://scikit-learn.org/stable/modules/preprocessing.html\n",
            "Please also refer to the documentation for alternative solver options:\n",
            "    https://scikit-learn.org/stable/modules/linear_model.html#logistic-regression\n",
            "  extra_warning_msg=_LOGISTIC_SOLVER_CONVERGENCE_MSG)\n"
          ],
          "name": "stderr"
        },
        {
          "output_type": "execute_result",
          "data": {
            "text/plain": [
              "LogisticRegression(C=1.0, class_weight=None, dual=False, fit_intercept=True,\n",
              "                   intercept_scaling=1, l1_ratio=None, max_iter=100,\n",
              "                   multi_class='auto', n_jobs=None, penalty='l2',\n",
              "                   random_state=None, solver='lbfgs', tol=0.0001, verbose=0,\n",
              "                   warm_start=False)"
            ]
          },
          "metadata": {
            "tags": []
          },
          "execution_count": 81
        }
      ]
    },
    {
      "cell_type": "code",
      "metadata": {
        "id": "TXMCJfU2YV9c"
      },
      "source": [
        "# Using our model to make a prediction\n",
        "\n",
        "y_pred = LogReg.predict(X_test)"
      ],
      "execution_count": 82,
      "outputs": []
    },
    {
      "cell_type": "code",
      "metadata": {
        "id": "u7zoMZfkYyed",
        "outputId": "80073834-90dd-4246-a0b6-a13f3850e809",
        "colab": {
          "base_uri": "https://localhost:8080/",
          "height": 85
        }
      },
      "source": [
        "# Evaluating the model\n",
        "from sklearn.metrics import confusion_matrix\n",
        "confusion_matrix = confusion_matrix(Y_test, y_pred)\n",
        "print(confusion_matrix)\n",
        "# Measuring the accuracy of the model\n",
        "\n",
        "from sklearn.metrics import accuracy_score\n",
        "print(\"accuracy of the model is\", {accuracy_score(Y_test, y_pred)})"
      ],
      "execution_count": 83,
      "outputs": [
        {
          "output_type": "stream",
          "text": [
            "[[ 355  596  280]\n",
            " [ 238 1030  152]\n",
            " [ 323  136 1949]]\n",
            "accuracy of the model is {0.6590235224352639}\n"
          ],
          "name": "stdout"
        }
      ]
    },
    {
      "cell_type": "markdown",
      "metadata": {
        "id": "47fAlAmqxl0M"
      },
      "source": [
        "from the above accuracy level of 65%, we have several incorrect prediction and therefore we may need to do hyperparameter tuning to see of the model improves."
      ]
    },
    {
      "cell_type": "code",
      "metadata": {
        "id": "-srw0ayf9FGK"
      },
      "source": [
        "#predicting the home team status: win,loss or draw\n",
        "X= (df[['home_score', 'home_rank', 'tournament']])\n",
        "Y = df['status']"
      ],
      "execution_count": 84,
      "outputs": []
    },
    {
      "cell_type": "code",
      "metadata": {
        "id": "Hbns3NA99MLb"
      },
      "source": [
        "# Performing Data Preprocessing\n",
        "\n",
        "X_train, X_test, y_train, y_test = train_test_split(X, Y)"
      ],
      "execution_count": 85,
      "outputs": []
    },
    {
      "cell_type": "code",
      "metadata": {
        "id": "hO-6UGdA9uZM"
      },
      "source": [
        "# Training and Cross Validation\n",
        "\n",
        "from sklearn.ensemble import RandomForestClassifier\n",
        "classifier = RandomForestClassifier(n_estimators=300, random_state=0)"
      ],
      "execution_count": 86,
      "outputs": []
    },
    {
      "cell_type": "code",
      "metadata": {
        "id": "MwGyPYFt9z-k"
      },
      "source": [
        "#cross validating and training\n",
        "from sklearn.model_selection import cross_val_score\n",
        "all_accuracies = cross_val_score(estimator=classifier, X=X_train, y=y_train, cv=5)"
      ],
      "execution_count": 87,
      "outputs": []
    },
    {
      "cell_type": "code",
      "metadata": {
        "id": "JVBwPMt8-WoW",
        "outputId": "2e75dd5c-a96f-4e67-b185-b21865fc8fd7",
        "colab": {
          "base_uri": "https://localhost:8080/",
          "height": 34
        }
      },
      "source": [
        "# Printing the accuracies returned for five folds \n",
        "# by the cross_val_score method by calling print on all_accuracies\n",
        "\n",
        "print(all_accuracies.mean())"
      ],
      "execution_count": 88,
      "outputs": [
        {
          "output_type": "stream",
          "text": [
            "0.6316625328013228\n"
          ],
          "name": "stdout"
        }
      ]
    },
    {
      "cell_type": "code",
      "metadata": {
        "id": "f9FvhxJH-XQ5"
      },
      "source": [
        "#Hyperparameters: Getting Started with Grid Search\n",
        "grid_param = {\n",
        "    'n_estimators': [100, 300, 500, 800, 1000],\n",
        "    'criterion': ['gini', 'entropy'],\n",
        "    'bootstrap': [True, False]\n",
        "}"
      ],
      "execution_count": 89,
      "outputs": []
    },
    {
      "cell_type": "code",
      "metadata": {
        "id": "QawdoQV2-9Uy"
      },
      "source": [
        "#Instantiating GridSearchCV object\n",
        "from sklearn.model_selection import GridSearchCV\n",
        "gd_sr = GridSearchCV(estimator=classifier,\n",
        "                     param_grid=grid_param,\n",
        "                     scoring='accuracy',\n",
        "                     cv=5,\n",
        "                     n_jobs=-1)"
      ],
      "execution_count": 90,
      "outputs": []
    },
    {
      "cell_type": "code",
      "metadata": {
        "id": "nf3QVu8v_4SP",
        "outputId": "30b076e1-6f70-4a44-b08e-83c5bd88ab92",
        "colab": {
          "base_uri": "https://localhost:8080/",
          "height": 428
        }
      },
      "source": [
        "#Calling the fit method\n",
        "gd_sr.fit(X_train, y_train)"
      ],
      "execution_count": 91,
      "outputs": [
        {
          "output_type": "stream",
          "text": [
            "/usr/local/lib/python3.6/dist-packages/joblib/externals/loky/process_executor.py:691: UserWarning: A worker stopped while some jobs were given to the executor. This can be caused by a too short worker timeout or by a memory leak.\n",
            "  \"timeout or by a memory leak.\", UserWarning\n"
          ],
          "name": "stderr"
        },
        {
          "output_type": "execute_result",
          "data": {
            "text/plain": [
              "GridSearchCV(cv=5, error_score=nan,\n",
              "             estimator=RandomForestClassifier(bootstrap=True, ccp_alpha=0.0,\n",
              "                                              class_weight=None,\n",
              "                                              criterion='gini', max_depth=None,\n",
              "                                              max_features='auto',\n",
              "                                              max_leaf_nodes=None,\n",
              "                                              max_samples=None,\n",
              "                                              min_impurity_decrease=0.0,\n",
              "                                              min_impurity_split=None,\n",
              "                                              min_samples_leaf=1,\n",
              "                                              min_samples_split=2,\n",
              "                                              min_weight_fraction_leaf=0.0,\n",
              "                                              n_estimators=300, n_jobs=None,\n",
              "                                              oob_score=False, random_state=0,\n",
              "                                              verbose=0, warm_start=False),\n",
              "             iid='deprecated', n_jobs=-1,\n",
              "             param_grid={'bootstrap': [True, False],\n",
              "                         'criterion': ['gini', 'entropy'],\n",
              "                         'n_estimators': [100, 300, 500, 800, 1000]},\n",
              "             pre_dispatch='2*n_jobs', refit=True, return_train_score=False,\n",
              "             scoring='accuracy', verbose=0)"
            ]
          },
          "metadata": {
            "tags": []
          },
          "execution_count": 91
        }
      ]
    },
    {
      "cell_type": "code",
      "metadata": {
        "id": "K2Y6OGRSAx-u",
        "outputId": "a4454611-333a-40b0-bb09-679930ad25cf",
        "colab": {
          "base_uri": "https://localhost:8080/",
          "height": 34
        }
      },
      "source": [
        "# Checking the parameters that return the highest accuracy\n",
        "\n",
        "best_parameters = gd_sr.best_params_\n",
        "print(best_parameters)"
      ],
      "execution_count": 92,
      "outputs": [
        {
          "output_type": "stream",
          "text": [
            "{'bootstrap': True, 'criterion': 'gini', 'n_estimators': 500}\n"
          ],
          "name": "stdout"
        }
      ]
    },
    {
      "cell_type": "code",
      "metadata": {
        "id": "7n3lMhKMA231",
        "outputId": "467589d0-13c8-447e-ec58-84754dc6ce22",
        "colab": {
          "base_uri": "https://localhost:8080/",
          "height": 34
        }
      },
      "source": [
        "# Step 5: Finding the obtained accuracy\n",
        "\n",
        "best_result = gd_sr.best_score_\n",
        "print(best_result)"
      ],
      "execution_count": 93,
      "outputs": [
        {
          "output_type": "stream",
          "text": [
            "0.6321373412290943\n"
          ],
          "name": "stdout"
        }
      ]
    },
    {
      "cell_type": "markdown",
      "metadata": {
        "id": "i9N_ivGpaCMn"
      },
      "source": [
        "## challenging the solution:\n",
        "\n",
        "though the models used did quite some good job, the accuracies are may not yield the best results and therefore  we recomend applying other models to train and make more inferences."
      ]
    }
  ]
}